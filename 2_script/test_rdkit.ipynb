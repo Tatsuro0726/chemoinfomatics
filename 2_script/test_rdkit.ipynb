{
 "cells": [
  {
   "cell_type": "code",
   "execution_count": 1,
   "metadata": {},
   "outputs": [
    {
     "name": "stdout",
     "output_type": "stream",
     "text": [
      "rdkit version:  2020.09.1\n",
      "pandas version:  1.2.0\n"
     ]
    }
   ],
   "source": [
    "from rdkit import rdBase, Chem, DataStructs\n",
    "from rdkit.Chem import AllChem, Draw, Descriptors, PandasTools\n",
    "import pandas as pd\n",
    "from IPython.display import HTML\n",
    "from IPython import display\n",
    " \n",
    "print('rdkit version: ',rdBase.rdkitVersion)\n",
    "print('pandas version: ', pd.__version__)"
   ]
  },
  {
   "cell_type": "code",
   "execution_count": 27,
   "metadata": {},
   "outputs": [],
   "source": [
    "# FingerPrint\n",
    "# FP対象の分子作成\n",
    "mol = Chem.MolFromSmiles('c1ccccc1CC1CC1')\n",
    "# FPのビット列記録用dict\n",
    "bit_info={}\n",
    "# MorganFingerprint - radius=2(半径2まで)\n",
    "fp = AllChem.GetMorganFingerprintAsBitVect(mol=mol, radius=2, nBits=1024, bitInfo=bit_info)"
   ]
  },
  {
   "cell_type": "code",
   "execution_count": 28,
   "metadata": {},
   "outputs": [
    {
     "data": {
      "image/png": "[encoded data removed]",
      "text/plain": [
       "<rdkit.Chem.rdchem.Mol at 0x143b755fbc0>"
      ]
     },
     "execution_count": 28,
     "metadata": {},
     "output_type": "execute_result"
    }
   ],
   "source": [
    "# 対象分子の描画\n",
    "mol"
   ]
  },
  {
   "cell_type": "code",
   "execution_count": 46,
   "metadata": {},
   "outputs": [
    {
     "data": {
      "text/plain": [
       "dict_keys([29, 42, 64, 80, 175, 301, 356, 389, 432, 458, 573, 647, 726, 730, 849, 872, 926, 1019])"
      ]
     },
     "execution_count": 46,
     "metadata": {},
     "output_type": "execute_result"
    }
   ],
   "source": [
    "# FPのビット番号表示\n",
    "bit_info.keys()"
   ]
  },
  {
   "cell_type": "code",
   "execution_count": 47,
   "metadata": {},
   "outputs": [
    {
     "data": {
      "text/plain": [
       "((6, 2),)"
      ]
     },
     "execution_count": 47,
     "metadata": {},
     "output_type": "execute_result"
    }
   ],
   "source": [
    "# 872の構造がどこの部分か確認\n",
    "bit_info[872] # Return:(AtomInd, radius)"
   ]
  },
  {
   "cell_type": "code",
   "execution_count": 48,
   "metadata": {},
   "outputs": [
    {
     "data": {
      "image/svg+xml": [
       "<svg baseProfile=\"full\" height=\"150px\" version=\"1.1\" viewBox=\"0 0 150 150\" width=\"150px\" xml:space=\"preserve\" xmlns=\"http://www.w3.org/2000/svg\" xmlns:rdkit=\"http://www.rdkit.org/xml\" xmlns:xlink=\"http://www.w3.org/1999/xlink\">\n",
       "<!-- END OF HEADER -->\n",
       "<rect height=\"150\" style=\"opacity:1.0;fill:#FFFFFF;stroke:none\" width=\"150\" x=\"0\" y=\"0\"> </rect>\n",
       "<ellipse cx=\"55.7876\" cy=\"94.7968\" rx=\"5.79164\" ry=\"5.79164\" style=\"fill:#E5E533;fill-rule:evenodd;stroke:#E5E533;stroke-width:2px;stroke-linecap:butt;stroke-linejoin:miter;stroke-opacity:1\"/>\n",
       "<ellipse cx=\"35.1523\" cy=\"49.0811\" rx=\"5.79164\" ry=\"5.79164\" style=\"fill:#E5E533;fill-rule:evenodd;stroke:#E5E533;stroke-width:2px;stroke-linecap:butt;stroke-linejoin:miter;stroke-opacity:1\"/>\n",
       "<ellipse cx=\"58.6669\" cy=\"65.9821\" rx=\"5.79164\" ry=\"5.79164\" style=\"fill:#E5E533;fill-rule:evenodd;stroke:#E5E533;stroke-width:2px;stroke-linecap:butt;stroke-linejoin:miter;stroke-opacity:1\"/>\n",
       "<ellipse cx=\"85.0609\" cy=\"54.0683\" rx=\"5.79164\" ry=\"5.79164\" style=\"fill:#9999E5;fill-rule:evenodd;stroke:#9999E5;stroke-width:2px;stroke-linecap:butt;stroke-linejoin:miter;stroke-opacity:1\"/>\n",
       "<ellipse cx=\"108.575\" cy=\"70.9693\" rx=\"5.79164\" ry=\"5.79164\" style=\"fill:#CCCCCC;fill-rule:evenodd;stroke:#CCCCCC;stroke-width:2px;stroke-linecap:butt;stroke-linejoin:miter;stroke-opacity:1\"/>\n",
       "<ellipse cx=\"137.39\" cy=\"73.8487\" rx=\"5.79164\" ry=\"5.79164\" style=\"fill:#CCCCCC;fill-rule:evenodd;stroke:#CCCCCC;stroke-width:2px;stroke-linecap:butt;stroke-linejoin:miter;stroke-opacity:1\"/>\n",
       "<ellipse cx=\"120.489\" cy=\"97.3633\" rx=\"5.79164\" ry=\"5.79164\" style=\"fill:#CCCCCC;fill-rule:evenodd;stroke:#CCCCCC;stroke-width:2px;stroke-linecap:butt;stroke-linejoin:miter;stroke-opacity:1\"/>\n",
       "<path class=\"bond-0\" d=\"M 54.5962,92.1574 L 30.8664,102.869\" style=\"fill:none;fill-rule:evenodd;stroke:#E5E5E5;stroke-width:1.5px;stroke-linecap:butt;stroke-linejoin:miter;stroke-opacity:1\"/>\n",
       "<path class=\"bond-0\" d=\"M 56.9789,97.4362 L 33.2491,108.147\" style=\"fill:none;fill-rule:evenodd;stroke:#E5E5E5;stroke-width:1.5px;stroke-linecap:butt;stroke-linejoin:miter;stroke-opacity:1;stroke-dasharray:6,6\"/>\n",
       "<path class=\"bond-7\" d=\"M 55.7876,94.7968 L 58.6669,65.9821\" style=\"fill:none;fill-rule:evenodd;stroke:#000000;stroke-width:2.0px;stroke-linecap:butt;stroke-linejoin:miter;stroke-opacity:1\"/>\n",
       "<path class=\"bond-7\" d=\"M 50.4565,89.8987 L 52.4721,69.7284\" style=\"fill:none;fill-rule:evenodd;stroke:#000000;stroke-width:2.0px;stroke-linecap:butt;stroke-linejoin:miter;stroke-opacity:1;stroke-dasharray:6,6\"/>\n",
       "<path class=\"bond-1\" d=\"M 12.6139,62.4317 L 36.3437,51.7205\" style=\"fill:none;fill-rule:evenodd;stroke:#E5E5E5;stroke-width:1.5px;stroke-linecap:butt;stroke-linejoin:miter;stroke-opacity:1\"/>\n",
       "<path class=\"bond-1\" d=\"M 10.2312,57.1529 L 33.961,46.4417\" style=\"fill:none;fill-rule:evenodd;stroke:#E5E5E5;stroke-width:1.5px;stroke-linecap:butt;stroke-linejoin:miter;stroke-opacity:1;stroke-dasharray:6,6\"/>\n",
       "<path class=\"bond-2\" d=\"M 35.1523,49.0811 L 58.6669,65.9821\" style=\"fill:none;fill-rule:evenodd;stroke:#000000;stroke-width:2.0px;stroke-linecap:butt;stroke-linejoin:miter;stroke-opacity:1\"/>\n",
       "<path class=\"bond-2\" d=\"M 35.2993,56.3192 L 51.7595,68.1498\" style=\"fill:none;fill-rule:evenodd;stroke:#000000;stroke-width:2.0px;stroke-linecap:butt;stroke-linejoin:miter;stroke-opacity:1;stroke-dasharray:6,6\"/>\n",
       "<path class=\"bond-3\" d=\"M 58.6669,65.9821 L 85.0609,54.0683\" style=\"fill:none;fill-rule:evenodd;stroke:#000000;stroke-width:2.0px;stroke-linecap:butt;stroke-linejoin:miter;stroke-opacity:1\"/>\n",
       "<path class=\"bond-4\" d=\"M 85.0609,54.0683 L 108.575,70.9693\" style=\"fill:none;fill-rule:evenodd;stroke:#000000;stroke-width:2.0px;stroke-linecap:butt;stroke-linejoin:miter;stroke-opacity:1\"/>\n",
       "<path class=\"bond-5\" d=\"M 108.575,70.9693 L 137.39,73.8487\" style=\"fill:none;fill-rule:evenodd;stroke:#000000;stroke-width:2.0px;stroke-linecap:butt;stroke-linejoin:miter;stroke-opacity:1\"/>\n",
       "<path class=\"bond-8\" d=\"M 108.575,70.9693 L 120.489,97.3633\" style=\"fill:none;fill-rule:evenodd;stroke:#000000;stroke-width:2.0px;stroke-linecap:butt;stroke-linejoin:miter;stroke-opacity:1\"/>\n",
       "<path class=\"bond-6\" d=\"M 137.39,73.8487 L 120.489,97.3633\" style=\"fill:none;fill-rule:evenodd;stroke:#E5E5E5;stroke-width:1.5px;stroke-linecap:butt;stroke-linejoin:miter;stroke-opacity:1\"/>\n",
       "<path class=\"atom-1\" d=\"M 27.8472 105.795 L 29.0519 104.568 L 27.4534 104.243 L 27.6966 103.421 L 29.1677 104.162 L 28.9592 102.552 L 29.828 102.541 L 29.5847 104.151 L 31.079 103.456 L 31.3338 104.243 L 29.7121 104.544 L 30.8705 105.784 L 30.1639 106.294 L 29.3646 104.765 L 28.5538 106.294 L 27.8472 105.795 \" fill=\"#191919\"/>\n",
       "<path class=\"atom-2\" d=\"M 7.21201 60.0798 L 8.41668 58.8519 L 6.81818 58.5276 L 7.06143 57.7052 L 8.53251 58.4465 L 8.32401 56.8365 L 9.19276 56.8249 L 8.94951 58.435 L 10.4438 57.74 L 10.6986 58.5276 L 9.07692 58.8288 L 10.2353 60.0682 L 9.52867 60.5779 L 8.72942 59.0489 L 7.91859 60.5779 L 7.21201 60.0798 \" fill=\"#191919\"/>\n",
       "</svg>"
      ],
      "text/plain": [
       "<IPython.core.display.SVG object>"
      ]
     },
     "execution_count": 48,
     "metadata": {},
     "output_type": "execute_result"
    }
   ],
   "source": [
    "# 872の構造を描画\n",
    "mfp2_svg = Draw.DrawMorganBit(mol, 872, bit_info, useSVG=True)\n",
    "mfp2_svg"
   ]
  },
  {
   "cell_type": "code",
   "execution_count": 49,
   "metadata": {},
   "outputs": [
    {
     "name": "stdout",
     "output_type": "stream",
     "text": [
      "原子数:7\n",
      "cc(c)CC(C)C\n"
     ]
    }
   ],
   "source": [
    "# 872の構造をsmilesで抽出してみる\n",
    "# AtomInd=5のradius=2を取得\n",
    "env = Chem.FindAtomEnvironmentOfRadiusN(mol,2,6)\n",
    "# AtomMap記録用\n",
    "amap = {}\n",
    "# 部分構造取得\n",
    "submol = Chem.PathToSubmol(mol,env,atomMap=amap)\n",
    "print('原子数:{}'.format(submol.GetNumAtoms()))\n",
    "# smilesで取得\n",
    "print(Chem.MolToSmiles(submol))"
   ]
  },
  {
   "cell_type": "code",
   "execution_count": 52,
   "metadata": {},
   "outputs": [],
   "source": [
    "# Atom and AtomIndex\n",
    "def draw_mol_with_atom_index(mol):\n",
    "    for atom in mol.GetAtoms(): # 原子数分\n",
    "        atom.SetAtomMapNum(atom.GetIdx())\n",
    "    return mol"
   ]
  },
  {
   "cell_type": "code",
   "execution_count": 53,
   "metadata": {},
   "outputs": [
    {
     "data": {
      "image/png": "[encoded data removed]",
      "text/plain": [
       "<rdkit.Chem.rdchem.Mol at 0x143b755fbc0>"
      ]
     },
     "execution_count": 53,
     "metadata": {},
     "output_type": "execute_result"
    }
   ],
   "source": [
    "# 原子とインデックス表示\n",
    "draw_mol_with_atom_index(mol)"
   ]
  },
  {
   "cell_type": "code",
   "execution_count": null,
   "metadata": {},
   "outputs": [],
   "source": []
  }
 ],
 "metadata": {
  "kernelspec": {
   "display_name": "rdkit-202009",
   "language": "python",
   "name": "rdkit"
  },
  "language_info": {
   "codemirror_mode": {
    "name": "ipython",
    "version": 3
   },
   "file_extension": ".py",
   "mimetype": "text/x-python",
   "name": "python",
   "nbconvert_exporter": "python",
   "pygments_lexer": "ipython3",
   "version": "3.7.9"
  }
 },
 "nbformat": 4,
 "nbformat_minor": 4
}
