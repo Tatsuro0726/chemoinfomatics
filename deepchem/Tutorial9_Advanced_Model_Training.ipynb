{
  "nbformat": 4,
  "nbformat_minor": 0,
  "metadata": {
    "colab": {
      "name": "Tutorial9_Advanced Model Training.ipynb",
      "provenance": [],
      "authorship_tag": "ABX9TyMXQ58b24LRw/G0X2NlmPho",
      "include_colab_link": true
    },
    "kernelspec": {
      "name": "python3",
      "display_name": "Python 3"
    }
  },
  "cells": [
    {
      "cell_type": "markdown",
      "metadata": {
        "id": "view-in-github",
        "colab_type": "text"
      },
      "source": [
        "<a href=\"https://colab.research.google.com/github/Tatsuro0726/chemoinfomatics/blob/main/deepchem/Tutorial9_Advanced_Model_Training.ipynb\" target=\"_parent\"><img src=\"https://colab.research.google.com/assets/colab-badge.svg\" alt=\"Open In Colab\"/></a>"
      ]
    },
    {
      "cell_type": "markdown",
      "metadata": {
        "id": "8nnL-wXot26v"
      },
      "source": [
        "#### Tutorial9: 発展的なモデルの学習"
      ]
    },
    {
      "cell_type": "markdown",
      "metadata": {
        "id": "rHgJyWsvuDBi"
      },
      "source": [
        "#### Setup"
      ]
    },
    {
      "cell_type": "code",
      "metadata": {
        "id": "bwr_xKLStUHK",
        "colab": {
          "base_uri": "https://localhost:8080/"
        },
        "outputId": "f4e5728a-3df6-440e-d0b4-d9ed9e7570aa"
      },
      "source": [
        "!curl -Lo conda_installer.py https://raw.githubusercontent.com/deepchem/deepchem/master/scripts/colab_install.py\r\n",
        "import conda_installer\r\n",
        "conda_installer.install()\r\n",
        "!/root/miniconda/bin/conda info -e"
      ],
      "execution_count": 1,
      "outputs": [
        {
          "output_type": "stream",
          "text": [
            "  % Total    % Received % Xferd  Average Speed   Time    Time     Time  Current\n",
            "                                 Dload  Upload   Total   Spent    Left  Speed\n",
            "100  3490  100  3490    0     0  13269      0 --:--:-- --:--:-- --:--:-- 13269\n"
          ],
          "name": "stdout"
        },
        {
          "output_type": "stream",
          "text": [
            "add /root/miniconda/lib/python3.6/site-packages to PYTHONPATH\n",
            "python version: 3.6.9\n",
            "fetching installer from https://repo.continuum.io/miniconda/Miniconda3-latest-Linux-x86_64.sh\n",
            "done\n",
            "installing miniconda to /root/miniconda\n",
            "done\n",
            "installing rdkit, openmm, pdbfixer\n",
            "added omnia to channels\n",
            "added conda-forge to channels\n",
            "done\n",
            "conda packages installation finished!\n"
          ],
          "name": "stderr"
        },
        {
          "output_type": "stream",
          "text": [
            "# conda environments:\n",
            "#\n",
            "base                  *  /root/miniconda\n",
            "\n"
          ],
          "name": "stdout"
        }
      ]
    },
    {
      "cell_type": "code",
      "metadata": {
        "colab": {
          "base_uri": "https://localhost:8080/",
          "height": 276
        },
        "id": "9UK-GMC0uHQu",
        "outputId": "c783463b-af21-4dcf-c885-9a27e44281b2"
      },
      "source": [
        "!pip install --pre deepchem\r\n",
        "import deepchem\r\n",
        "deepchem.__version__"
      ],
      "execution_count": 2,
      "outputs": [
        {
          "output_type": "stream",
          "text": [
            "Collecting deepchem\n",
            "\u001b[?25l  Downloading https://files.pythonhosted.org/packages/b7/f7/5828211eb0b9a78e4dad42de96dcc61d616330586c28fceda6651d8ae324/deepchem-2.5.0.dev20210116000740-py3-none-any.whl (531kB)\n",
            "\r\u001b[K     |▋                               | 10kB 19.7MB/s eta 0:00:01\r\u001b[K     |█▎                              | 20kB 21.6MB/s eta 0:00:01\r\u001b[K     |█▉                              | 30kB 16.8MB/s eta 0:00:01\r\u001b[K     |██▌                             | 40kB 13.3MB/s eta 0:00:01\r\u001b[K     |███                             | 51kB 15.4MB/s eta 0:00:01\r\u001b[K     |███▊                            | 61kB 17.6MB/s eta 0:00:01\r\u001b[K     |████▎                           | 71kB 13.3MB/s eta 0:00:01\r\u001b[K     |█████                           | 81kB 13.9MB/s eta 0:00:01\r\u001b[K     |█████▌                          | 92kB 11.9MB/s eta 0:00:01\r\u001b[K     |██████▏                         | 102kB 11.6MB/s eta 0:00:01\r\u001b[K     |██████▉                         | 112kB 11.6MB/s eta 0:00:01\r\u001b[K     |███████▍                        | 122kB 11.6MB/s eta 0:00:01\r\u001b[K     |████████                        | 133kB 11.6MB/s eta 0:00:01\r\u001b[K     |████████▋                       | 143kB 11.6MB/s eta 0:00:01\r\u001b[K     |█████████▎                      | 153kB 11.6MB/s eta 0:00:01\r\u001b[K     |█████████▉                      | 163kB 11.6MB/s eta 0:00:01\r\u001b[K     |██████████▌                     | 174kB 11.6MB/s eta 0:00:01\r\u001b[K     |███████████                     | 184kB 11.6MB/s eta 0:00:01\r\u001b[K     |███████████▊                    | 194kB 11.6MB/s eta 0:00:01\r\u001b[K     |████████████▍                   | 204kB 11.6MB/s eta 0:00:01\r\u001b[K     |█████████████                   | 215kB 11.6MB/s eta 0:00:01\r\u001b[K     |█████████████▋                  | 225kB 11.6MB/s eta 0:00:01\r\u001b[K     |██████████████▏                 | 235kB 11.6MB/s eta 0:00:01\r\u001b[K     |██████████████▉                 | 245kB 11.6MB/s eta 0:00:01\r\u001b[K     |███████████████▍                | 256kB 11.6MB/s eta 0:00:01\r\u001b[K     |████████████████                | 266kB 11.6MB/s eta 0:00:01\r\u001b[K     |████████████████▋               | 276kB 11.6MB/s eta 0:00:01\r\u001b[K     |█████████████████▎              | 286kB 11.6MB/s eta 0:00:01\r\u001b[K     |█████████████████▉              | 296kB 11.6MB/s eta 0:00:01\r\u001b[K     |██████████████████▌             | 307kB 11.6MB/s eta 0:00:01\r\u001b[K     |███████████████████▏            | 317kB 11.6MB/s eta 0:00:01\r\u001b[K     |███████████████████▊            | 327kB 11.6MB/s eta 0:00:01\r\u001b[K     |████████████████████▍           | 337kB 11.6MB/s eta 0:00:01\r\u001b[K     |█████████████████████           | 348kB 11.6MB/s eta 0:00:01\r\u001b[K     |█████████████████████▋          | 358kB 11.6MB/s eta 0:00:01\r\u001b[K     |██████████████████████▏         | 368kB 11.6MB/s eta 0:00:01\r\u001b[K     |██████████████████████▉         | 378kB 11.6MB/s eta 0:00:01\r\u001b[K     |███████████████████████▍        | 389kB 11.6MB/s eta 0:00:01\r\u001b[K     |████████████████████████        | 399kB 11.6MB/s eta 0:00:01\r\u001b[K     |████████████████████████▊       | 409kB 11.6MB/s eta 0:00:01\r\u001b[K     |█████████████████████████▎      | 419kB 11.6MB/s eta 0:00:01\r\u001b[K     |██████████████████████████      | 430kB 11.6MB/s eta 0:00:01\r\u001b[K     |██████████████████████████▌     | 440kB 11.6MB/s eta 0:00:01\r\u001b[K     |███████████████████████████▏    | 450kB 11.6MB/s eta 0:00:01\r\u001b[K     |███████████████████████████▊    | 460kB 11.6MB/s eta 0:00:01\r\u001b[K     |████████████████████████████▍   | 471kB 11.6MB/s eta 0:00:01\r\u001b[K     |█████████████████████████████   | 481kB 11.6MB/s eta 0:00:01\r\u001b[K     |█████████████████████████████▋  | 491kB 11.6MB/s eta 0:00:01\r\u001b[K     |██████████████████████████████▏ | 501kB 11.6MB/s eta 0:00:01\r\u001b[K     |██████████████████████████████▉ | 512kB 11.6MB/s eta 0:00:01\r\u001b[K     |███████████████████████████████▌| 522kB 11.6MB/s eta 0:00:01\r\u001b[K     |████████████████████████████████| 532kB 11.6MB/s \n",
            "\u001b[?25hRequirement already satisfied: pandas in /usr/local/lib/python3.6/dist-packages (from deepchem) (1.1.5)\n",
            "Requirement already satisfied: scikit-learn in /usr/local/lib/python3.6/dist-packages (from deepchem) (0.22.2.post1)\n",
            "Requirement already satisfied: scipy in /usr/local/lib/python3.6/dist-packages (from deepchem) (1.4.1)\n",
            "Requirement already satisfied: joblib in /usr/local/lib/python3.6/dist-packages (from deepchem) (1.0.0)\n",
            "Requirement already satisfied: numpy in /usr/local/lib/python3.6/dist-packages (from deepchem) (1.19.5)\n",
            "Requirement already satisfied: python-dateutil>=2.7.3 in /usr/local/lib/python3.6/dist-packages (from pandas->deepchem) (2.8.1)\n",
            "Requirement already satisfied: pytz>=2017.2 in /usr/local/lib/python3.6/dist-packages (from pandas->deepchem) (2018.9)\n",
            "Requirement already satisfied: six>=1.5 in /usr/local/lib/python3.6/dist-packages (from python-dateutil>=2.7.3->pandas->deepchem) (1.15.0)\n",
            "Installing collected packages: deepchem\n",
            "Successfully installed deepchem-2.5.0.dev20210116000740\n"
          ],
          "name": "stdout"
        },
        {
          "output_type": "execute_result",
          "data": {
            "application/vnd.google.colaboratory.intrinsic+json": {
              "type": "string"
            },
            "text/plain": [
              "'2.5.0.dev'"
            ]
          },
          "metadata": {
            "tags": []
          },
          "execution_count": 2
        }
      ]
    },
    {
      "cell_type": "markdown",
      "metadata": {
        "id": "XzQJ6akmvBCw"
      },
      "source": [
        "#### ハイパーパラメータの最適化"
      ]
    },
    {
      "cell_type": "code",
      "metadata": {
        "colab": {
          "base_uri": "https://localhost:8080/"
        },
        "id": "-7472sntu_Pn",
        "outputId": "37bcf10e-4ae1-4054-dffb-344e7b45ac30"
      },
      "source": [
        "import deepchem as dc\r\n",
        "\r\n",
        "tasks, datasets, transformers = dc.molnet.load_hiv(featurizer='ECFP', split='scaffold')\r\n",
        "train_dataset, valid_dataset, test_dataset = datasets"
      ],
      "execution_count": 3,
      "outputs": [
        {
          "output_type": "stream",
          "text": [
            "'split' is deprecated.  Use 'splitter' instead.\n"
          ],
          "name": "stderr"
        }
      ]
    },
    {
      "cell_type": "markdown",
      "metadata": {
        "id": "oQrnZGY4vUGN"
      },
      "source": [
        "- DeepChemでのハイパーパラメータ最適化\r\n",
        "    - dc.hyperパッケージで提供。"
      ]
    },
    {
      "cell_type": "code",
      "metadata": {
        "id": "qax89YkgvGLy"
      },
      "source": [
        "# 探索パラメータグリッドをせてい\r\n",
        "params_dict = {\r\n",
        "    'n_tasks': [len(tasks)],\r\n",
        "    'n_features': [1024],\r\n",
        "    'layer_sizes': [[500],[1000],[1000,1000]],\r\n",
        "    'dropouts': [0.2, 0.5],\r\n",
        "    'learning_rate': [0.001, 0.0001]\r\n",
        "}\r\n",
        "\r\n",
        "optimizer = dc.hyper.GridHyperparamOpt(dc.models.MultitaskClassifier)\r\n",
        "metric = dc.metrics.Metric(dc.metrics.roc_auc_score)\r\n",
        "best_model, best_hyperparams, all_results = optimizer.hyperparam_search(\r\n",
        "                                                                        params_dict,\r\n",
        "                                                                        train_dataset,\r\n",
        "                                                                        valid_dataset,\r\n",
        "                                                                        metric, transformers\r\n",
        "                                                                        )"
      ],
      "execution_count": 6,
      "outputs": []
    },
    {
      "cell_type": "code",
      "metadata": {
        "colab": {
          "base_uri": "https://localhost:8080/"
        },
        "id": "_V2CH8qewoJ-",
        "outputId": "2b60405f-dc60-437b-8397-aad38059e7b5"
      },
      "source": [
        "all_results"
      ],
      "execution_count": 7,
      "outputs": [
        {
          "output_type": "execute_result",
          "data": {
            "text/plain": [
              "{'_dropouts_0.200000_layer_sizes[1000, 1000]_learning_rate_0.000100_n_features_1024_n_tasks_1': 0.7668880437977661,\n",
              " '_dropouts_0.200000_layer_sizes[1000, 1000]_learning_rate_0.001000_n_features_1024_n_tasks_1': 0.7692549113266706,\n",
              " '_dropouts_0.200000_layer_sizes[1000]_learning_rate_0.000100_n_features_1024_n_tasks_1': 0.7774608686067018,\n",
              " '_dropouts_0.200000_layer_sizes[1000]_learning_rate_0.001000_n_features_1024_n_tasks_1': 0.7829042046345287,\n",
              " '_dropouts_0.200000_layer_sizes[500]_learning_rate_0.000100_n_features_1024_n_tasks_1': 0.7783243312757202,\n",
              " '_dropouts_0.200000_layer_sizes[500]_learning_rate_0.001000_n_features_1024_n_tasks_1': 0.7721285273368608,\n",
              " '_dropouts_0.500000_layer_sizes[1000, 1000]_learning_rate_0.000100_n_features_1024_n_tasks_1': 0.7594843106995885,\n",
              " '_dropouts_0.500000_layer_sizes[1000, 1000]_learning_rate_0.001000_n_features_1024_n_tasks_1': 0.7148031795022536,\n",
              " '_dropouts_0.500000_layer_sizes[1000]_learning_rate_0.000100_n_features_1024_n_tasks_1': 0.7621451229668822,\n",
              " '_dropouts_0.500000_layer_sizes[1000]_learning_rate_0.001000_n_features_1024_n_tasks_1': 0.774839861356065,\n",
              " '_dropouts_0.500000_layer_sizes[500]_learning_rate_0.000100_n_features_1024_n_tasks_1': 0.7601548721340388,\n",
              " '_dropouts_0.500000_layer_sizes[500]_learning_rate_0.001000_n_features_1024_n_tasks_1': 0.7681342470115619}"
            ]
          },
          "metadata": {
            "tags": []
          },
          "execution_count": 7
        }
      ]
    },
    {
      "cell_type": "code",
      "metadata": {
        "colab": {
          "base_uri": "https://localhost:8080/"
        },
        "id": "A6QgFbeYzJb_",
        "outputId": "b3afa4d7-deab-4b63-998e-86f7d1e261b1"
      },
      "source": [
        "best_hyperparams"
      ],
      "execution_count": 10,
      "outputs": [
        {
          "output_type": "execute_result",
          "data": {
            "text/plain": [
              "(1, 1024, [1000], 0.2, 0.001)"
            ]
          },
          "metadata": {
            "tags": []
          },
          "execution_count": 10
        }
      ]
    },
    {
      "cell_type": "code",
      "metadata": {
        "colab": {
          "base_uri": "https://localhost:8080/"
        },
        "id": "LA2ZucqWzMmw",
        "outputId": "9e17ac22-6517-4fce-cbf2-549320438a1e"
      },
      "source": [
        "all_results"
      ],
      "execution_count": 11,
      "outputs": [
        {
          "output_type": "execute_result",
          "data": {
            "text/plain": [
              "{'_dropouts_0.200000_layer_sizes[1000, 1000]_learning_rate_0.000100_n_features_1024_n_tasks_1': 0.7668880437977661,\n",
              " '_dropouts_0.200000_layer_sizes[1000, 1000]_learning_rate_0.001000_n_features_1024_n_tasks_1': 0.7692549113266706,\n",
              " '_dropouts_0.200000_layer_sizes[1000]_learning_rate_0.000100_n_features_1024_n_tasks_1': 0.7774608686067018,\n",
              " '_dropouts_0.200000_layer_sizes[1000]_learning_rate_0.001000_n_features_1024_n_tasks_1': 0.7829042046345287,\n",
              " '_dropouts_0.200000_layer_sizes[500]_learning_rate_0.000100_n_features_1024_n_tasks_1': 0.7783243312757202,\n",
              " '_dropouts_0.200000_layer_sizes[500]_learning_rate_0.001000_n_features_1024_n_tasks_1': 0.7721285273368608,\n",
              " '_dropouts_0.500000_layer_sizes[1000, 1000]_learning_rate_0.000100_n_features_1024_n_tasks_1': 0.7594843106995885,\n",
              " '_dropouts_0.500000_layer_sizes[1000, 1000]_learning_rate_0.001000_n_features_1024_n_tasks_1': 0.7148031795022536,\n",
              " '_dropouts_0.500000_layer_sizes[1000]_learning_rate_0.000100_n_features_1024_n_tasks_1': 0.7621451229668822,\n",
              " '_dropouts_0.500000_layer_sizes[1000]_learning_rate_0.001000_n_features_1024_n_tasks_1': 0.774839861356065,\n",
              " '_dropouts_0.500000_layer_sizes[500]_learning_rate_0.000100_n_features_1024_n_tasks_1': 0.7601548721340388,\n",
              " '_dropouts_0.500000_layer_sizes[500]_learning_rate_0.001000_n_features_1024_n_tasks_1': 0.7681342470115619}"
            ]
          },
          "metadata": {
            "tags": []
          },
          "execution_count": 11
        }
      ]
    },
    {
      "cell_type": "code",
      "metadata": {
        "colab": {
          "base_uri": "https://localhost:8080/"
        },
        "id": "HfmFVDLtzTrn",
        "outputId": "094adfcf-f3ba-43d8-e6fc-e505ba20f3b5"
      },
      "source": [
        "# Early Stopping\r\n",
        "model = dc.models.MultitaskClassifier(\r\n",
        "                                        n_tasks = len(tasks),\r\n",
        "                                      n_features=1024,\r\n",
        "                                      layer_sizes=[1000],\r\n",
        "                                      dropouts = 0.2,\r\n",
        "                                      learning_rate = 0.0001\r\n",
        "                                    )\r\n",
        "\r\n",
        "callback = dc.models.ValidationCallback(valid_dataset, 1000, metric)\r\n",
        "model.fit(train_dataset, nb_epoch=50, callbacks=callback)"
      ],
      "execution_count": 13,
      "outputs": [
        {
          "output_type": "stream",
          "text": [
            "Step 1000 validation: roc_auc_score=0.736116\n",
            "Step 2000 validation: roc_auc_score=0.763247\n",
            "Step 3000 validation: roc_auc_score=0.756104\n",
            "Step 4000 validation: roc_auc_score=0.766018\n",
            "Step 5000 validation: roc_auc_score=0.775994\n",
            "Step 6000 validation: roc_auc_score=0.76735\n",
            "Step 7000 validation: roc_auc_score=0.764298\n",
            "Step 8000 validation: roc_auc_score=0.767075\n",
            "Step 9000 validation: roc_auc_score=0.770679\n",
            "Step 10000 validation: roc_auc_score=0.764105\n",
            "Step 11000 validation: roc_auc_score=0.767219\n",
            "Step 12000 validation: roc_auc_score=0.762932\n",
            "Step 13000 validation: roc_auc_score=0.769099\n",
            "Step 14000 validation: roc_auc_score=0.767849\n",
            "Step 15000 validation: roc_auc_score=0.763817\n",
            "Step 16000 validation: roc_auc_score=0.768698\n"
          ],
          "name": "stdout"
        },
        {
          "output_type": "execute_result",
          "data": {
            "text/plain": [
              "0.6993769073486328"
            ]
          },
          "metadata": {
            "tags": []
          },
          "execution_count": 13
        }
      ]
    },
    {
      "cell_type": "code",
      "metadata": {
        "colab": {
          "base_uri": "https://localhost:8080/"
        },
        "id": "vSGj04sR0BEr",
        "outputId": "31aae5e3-fb3e-4e16-bfd6-7fc4af147dc6"
      },
      "source": [
        "# Learning Rate Scheduleオブジェクト\r\n",
        "# 学習率を変化させる場合に使用\r\n",
        "# 0.0002から始まり、1000ステップごとに0.9倍になる\r\n",
        "learning_rate = dc.models.optimizers.ExponentialDecay(0.0002, 0.9, 1000)\r\n",
        "model = dc.models.MultitaskClassifier(\r\n",
        "                                        n_tasks=len(tasks),\r\n",
        "                                        n_features=1024,\r\n",
        "                                        layer_size=[1000],\r\n",
        "                                        dropouts=0.2,\r\n",
        "                                        learning_rate=learning_rate\r\n",
        "                                      )\r\n",
        "model.fit(train_dataset, nb_epoch=50, callbacks=callback)\r\n"
      ],
      "execution_count": 14,
      "outputs": [
        {
          "output_type": "stream",
          "text": [
            "Step 1000 validation: roc_auc_score=0.748024\n",
            "Step 2000 validation: roc_auc_score=0.769393\n",
            "Step 3000 validation: roc_auc_score=0.760023\n",
            "Step 4000 validation: roc_auc_score=0.776585\n",
            "Step 5000 validation: roc_auc_score=0.765759\n",
            "Step 6000 validation: roc_auc_score=0.760809\n",
            "Step 7000 validation: roc_auc_score=0.764215\n",
            "Step 8000 validation: roc_auc_score=0.767366\n",
            "Step 9000 validation: roc_auc_score=0.772326\n",
            "Step 10000 validation: roc_auc_score=0.775406\n",
            "Step 11000 validation: roc_auc_score=0.76536\n",
            "Step 12000 validation: roc_auc_score=0.765094\n",
            "Step 13000 validation: roc_auc_score=0.768972\n",
            "Step 14000 validation: roc_auc_score=0.766266\n",
            "Step 15000 validation: roc_auc_score=0.765019\n",
            "Step 16000 validation: roc_auc_score=0.765372\n"
          ],
          "name": "stdout"
        },
        {
          "output_type": "execute_result",
          "data": {
            "text/plain": [
              "0.23679210662841796"
            ]
          },
          "metadata": {
            "tags": []
          },
          "execution_count": 14
        }
      ]
    },
    {
      "cell_type": "code",
      "metadata": {
        "id": "bjN9zZRt1aXT"
      },
      "source": [
        ""
      ],
      "execution_count": null,
      "outputs": []
    }
  ]
}