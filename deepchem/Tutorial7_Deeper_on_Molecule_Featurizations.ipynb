{
  "nbformat": 4,
  "nbformat_minor": 0,
  "metadata": {
    "colab": {
      "name": "Tutorial7_Deeper on Molecule Featurizations.ipynb",
      "provenance": [],
      "authorship_tag": "ABX9TyNbLpGQDBHT/BVLOSuGk5w2",
      "include_colab_link": true
    },
    "kernelspec": {
      "name": "python3",
      "display_name": "Python 3"
    }
  },
  "cells": [
    {
      "cell_type": "markdown",
      "metadata": {
        "id": "view-in-github",
        "colab_type": "text"
      },
      "source": [
        "<a href=\"https://colab.research.google.com/github/Tatsuro0726/chemoinfomatics/blob/main/deepchem/Tutorial7_Deeper_on_Molecule_Featurizations.ipynb\" target=\"_parent\"><img src=\"https://colab.research.google.com/assets/colab-badge.svg\" alt=\"Open In Colab\"/></a>"
      ]
    },
    {
      "cell_type": "markdown",
      "metadata": {
        "id": "icKO36vLvsqG"
      },
      "source": [
        "#### 分子の特徴化について深く考える\r\n",
        "分子データに対しての機械学習で重要なステップの１つは、データを学習アルゴリズムに適した形に変換することである。  \r\n",
        "分子をベクトルやテンソルに変換するなど、様々な方法があり、どの変換方法を選択するかは、対象の問題に依存する部分がある。\r\n",
        "例として既に、FingerprintとConvMolオブジェクトの２つを見た。"
      ]
    },
    {
      "cell_type": "markdown",
      "metadata": {
        "id": "IdL0FYcyxAdO"
      },
      "source": [
        "#### Setup"
      ]
    },
    {
      "cell_type": "code",
      "metadata": {
        "colab": {
          "base_uri": "https://localhost:8080/"
        },
        "id": "0OsstV3Vvken",
        "outputId": "1b9c6558-b0a6-44fa-bcc8-fb150c794a46"
      },
      "source": [
        "!curl -Lo conda_installer.py https://raw.githubusercontent.com/deepchem/deepchem/master/scripts/colab_install.py\r\n",
        "import conda_installer\r\n",
        "conda_installer.install()\r\n",
        "!/root/miniconda/bin/conda info -e"
      ],
      "execution_count": 6,
      "outputs": [
        {
          "output_type": "stream",
          "text": [
            "  % Total    % Received % Xferd  Average Speed   Time    Time     Time  Current\n",
            "                                 Dload  Upload   Total   Spent    Left  Speed\n",
            "100  3490  100  3490    0     0  18967      0 --:--:-- --:--:-- --:--:-- 19071\n"
          ],
          "name": "stdout"
        },
        {
          "output_type": "stream",
          "text": [
            "all packages are already installed\n"
          ],
          "name": "stderr"
        },
        {
          "output_type": "stream",
          "text": [
            "# conda environments:\n",
            "#\n",
            "base                  *  /root/miniconda\n",
            "\n"
          ],
          "name": "stdout"
        }
      ]
    },
    {
      "cell_type": "code",
      "metadata": {
        "colab": {
          "base_uri": "https://localhost:8080/",
          "height": 208
        },
        "id": "MdO2JV3sxERh",
        "outputId": "60c9bd07-b8dc-4945-920a-43db62cb50ed"
      },
      "source": [
        "!pip install --pre deepchem\r\n",
        "import deepchem\r\n",
        "deepchem.__version__"
      ],
      "execution_count": 7,
      "outputs": [
        {
          "output_type": "stream",
          "text": [
            "Requirement already satisfied: deepchem in /usr/local/lib/python3.6/dist-packages (2.5.0.dev20210116000740)\n",
            "Requirement already satisfied: scipy in /usr/local/lib/python3.6/dist-packages (from deepchem) (1.4.1)\n",
            "Requirement already satisfied: numpy in /usr/local/lib/python3.6/dist-packages (from deepchem) (1.19.5)\n",
            "Requirement already satisfied: scikit-learn in /usr/local/lib/python3.6/dist-packages (from deepchem) (0.22.2.post1)\n",
            "Requirement already satisfied: pandas in /usr/local/lib/python3.6/dist-packages (from deepchem) (1.1.5)\n",
            "Requirement already satisfied: joblib in /usr/local/lib/python3.6/dist-packages (from deepchem) (1.0.0)\n",
            "Requirement already satisfied: python-dateutil>=2.7.3 in /usr/local/lib/python3.6/dist-packages (from pandas->deepchem) (2.8.1)\n",
            "Requirement already satisfied: pytz>=2017.2 in /usr/local/lib/python3.6/dist-packages (from pandas->deepchem) (2018.9)\n",
            "Requirement already satisfied: six>=1.5 in /usr/local/lib/python3.6/dist-packages (from python-dateutil>=2.7.3->pandas->deepchem) (1.15.0)\n"
          ],
          "name": "stdout"
        },
        {
          "output_type": "execute_result",
          "data": {
            "application/vnd.google.colaboratory.intrinsic+json": {
              "type": "string"
            },
            "text/plain": [
              "'2.5.0.dev'"
            ]
          },
          "metadata": {
            "tags": []
          },
          "execution_count": 7
        }
      ]
    },
    {
      "cell_type": "markdown",
      "metadata": {
        "id": "XPuxvZWQybSF"
      },
      "source": [
        "#### Featurizer\r\n",
        "Deepchemでは、分子を特徴ベクトルに変換する方法がFeaturizerオブジェクトで定義されている。\r\n",
        "\r\n",
        "1. MoleculeNetデータを使用する場合\r\n",
        "    - 使用するメソッドの文字列(ECFP,GraphConv)を渡すだけ。\r\n",
        "2. 分子に直接適用することもできる。(以下に例を示す)\r\n"
      ]
    },
    {
      "cell_type": "code",
      "metadata": {
        "colab": {
          "base_uri": "https://localhost:8080/"
        },
        "id": "WaWyDBHfyO3K",
        "outputId": "91a5fd9f-9b8a-4110-8415-3bf0230776cc"
      },
      "source": [
        "import deepchem as dc\r\n",
        "\r\n",
        "featurizer = dc.feat.CircularFingerprint()\r\n",
        "print(featurizer(['CC', 'CCC','CCO']))"
      ],
      "execution_count": 8,
      "outputs": [
        {
          "output_type": "stream",
          "text": [
            "[[0. 0. 0. ... 0. 0. 0.]\n",
            " [0. 0. 0. ... 0. 0. 0.]\n",
            " [0. 0. 0. ... 0. 0. 0.]]\n"
          ],
          "name": "stdout"
        }
      ]
    },
    {
      "cell_type": "markdown",
      "metadata": {
        "id": "WGmPt2s-DKua"
      },
      "source": [
        "#### RDkitDescriptors\r\n",
        "RDKitDescriptorsは、RDKitを使用して記述子のリストの値を計算することで、分子を機能させます。これらは基本的な物理的・化学的性質であり、分子量、極性表面積、水素結合ドナーとアクセプターの数などです。これは、詳細な分子構造よりも、これらの高レベルの特性に依存するものを予測するのに最も有用です。"
      ]
    },
    {
      "cell_type": "code",
      "metadata": {
        "colab": {
          "base_uri": "https://localhost:8080/"
        },
        "id": "2ryR7raSzWtH",
        "outputId": "5c5b5a80-b1b3-4b35-8ac7-88999fb3e1ad"
      },
      "source": [
        "# RDkitでの分子記述子\r\n",
        "rdkit_featurizer = dc.feat.RDKitDescriptors()\r\n",
        "features = rdkit_featurizer(['CCC'])[0]\r\n",
        "for feature, descriptor in zip(features[:10], rdkit_featurizer.descriptors):\r\n",
        "    print(descriptor, feature)"
      ],
      "execution_count": 9,
      "outputs": [
        {
          "output_type": "stream",
          "text": [
            "MaxEStateIndex 2.125\n",
            "MinEStateIndex 1.25\n",
            "MaxAbsEStateIndex 2.125\n",
            "MinAbsEStateIndex 1.25\n",
            "qed 0.3854706587740357\n",
            "MolWt 44.097\n",
            "HeavyAtomMolWt 36.033\n",
            "ExactMolWt 44.062600255999996\n",
            "NumValenceElectrons 20.0\n",
            "NumRadicalElectrons 0.0\n"
          ],
          "name": "stdout"
        }
      ]
    },
    {
      "cell_type": "code",
      "metadata": {
        "colab": {
          "base_uri": "https://localhost:8080/"
        },
        "id": "68Sh1kE3Dspm",
        "outputId": "53f2ffa5-522e-49e8-e7bc-afc5dd7f749b"
      },
      "source": [
        "print('The number of descriptors present is:', len(features))"
      ],
      "execution_count": 10,
      "outputs": [
        {
          "output_type": "stream",
          "text": [
            "The number of descriptors present is: 208\n"
          ],
          "name": "stdout"
        }
      ]
    },
    {
      "cell_type": "markdown",
      "metadata": {
        "id": "E6yzJKEOES9A"
      },
      "source": [
        "#### Weave Featurizer および MolGraphConvFeaturizer\r\n",
        "\r\n",
        "Deepchemは、多くの異なるグラフベースのモデルをサポートしている。\r\n",
        "- WeaveFeaturizer\r\n",
        "- MolGraphConvFeaturizer  \r\n",
        "\r\n",
        "上記の方法は分子を特定のモデルで使用される異なるタイプのPythonオブジェクトに変換。グラフベースのモデルを使用するときはreferenceをチェックすること。"
      ]
    },
    {
      "cell_type": "markdown",
      "metadata": {
        "id": "ZDn9FGW3FuWH"
      },
      "source": [
        "#### クーロン行列\r\n",
        "分子の立体配座のための１つの特徴化方法。\r\n",
        "原子数がNの場合、N×Nの行列となり、各要素は２つの\r\n",
        "原子間の静電相互作用の強さを表す。これは、原子上の電荷とそれらの間の距離の情報を含んでいる。\r\n",
        "\r\n",
        "このFeaturizerを適用するには、分子の立体配座が必要になる。ConformerGeneratorクラスを使用する。RDkit moleculeを受け取り、エネルギーを最小化したコンフォーマーのセットを生成し、お互いに有意に異なるものだけを含むようにセットを刈り込みます。"
      ]
    },
    {
      "cell_type": "code",
      "metadata": {
        "colab": {
          "base_uri": "https://localhost:8080/"
        },
        "id": "kpicGTdRD7AC",
        "outputId": "367b9088-8b7a-42e0-cb2c-e40524400e04"
      },
      "source": [
        "from rdkit import Chem\r\n",
        "\r\n",
        "generator = dc.utils.ConformerGenerator(max_conformers=5)\r\n",
        "propane_mol = generator.generate_conformers(Chem.MolFromSmiles('CCC'))\r\n",
        "print('Number of available conformers for propane: {}'.format(len(propane_mol.GetConformers())))"
      ],
      "execution_count": 12,
      "outputs": [
        {
          "output_type": "stream",
          "text": [
            "Number of available conformers for propane: 1\n"
          ],
          "name": "stdout"
        }
      ]
    },
    {
      "cell_type": "code",
      "metadata": {
        "colab": {
          "base_uri": "https://localhost:8080/"
        },
        "id": "n3M76nHhZyjj",
        "outputId": "0264e4e7-3753-4368-fb2a-471f03f31805"
      },
      "source": [
        "butane_mol = generator.generate_conformers(Chem.MolFromSmiles('CCCC'))\r\n",
        "print(\"Number of available conformers for butane: \", len(butane_mol.GetConformers()))"
      ],
      "execution_count": 13,
      "outputs": [
        {
          "output_type": "stream",
          "text": [
            "Number of available conformers for butane:  3\n"
          ],
          "name": "stdout"
        }
      ]
    },
    {
      "cell_type": "code",
      "metadata": {
        "colab": {
          "base_uri": "https://localhost:8080/"
        },
        "id": "8vKyGg-LbSY2",
        "outputId": "06d28efc-4711-445e-e6c7-196df954dfb3"
      },
      "source": [
        "coulomb_mat = dc.feat.CoulombMatrix(max_atoms=20)\r\n",
        "features = coulomb_mat(propane_mol)\r\n",
        "print(features)"
      ],
      "execution_count": 14,
      "outputs": [
        {
          "output_type": "stream",
          "text": [
            "[[[36.8581052  12.48684429  7.5619687   2.85945193  2.85804514\n",
            "    2.85804556  1.4674015   1.46740144  0.91279491  1.14239698\n",
            "    1.14239675  0.          0.          0.          0.\n",
            "    0.          0.          0.          0.          0.        ]\n",
            "  [12.48684429 36.8581052  12.48684388  1.46551218  1.45850736\n",
            "    1.45850732  2.85689525  2.85689538  1.4655122   1.4585072\n",
            "    1.4585072   0.          0.          0.          0.\n",
            "    0.          0.          0.          0.          0.        ]\n",
            "  [ 7.5619687  12.48684388 36.8581052   0.9127949   1.14239695\n",
            "    1.14239692  1.46740146  1.46740145  2.85945178  2.85804504\n",
            "    2.85804493  0.          0.          0.          0.\n",
            "    0.          0.          0.          0.          0.        ]\n",
            "  [ 2.85945193  1.46551218  0.9127949   0.5         0.29325367\n",
            "    0.29325369  0.21256978  0.21256978  0.12268391  0.13960187\n",
            "    0.13960185  0.          0.          0.          0.\n",
            "    0.          0.          0.          0.          0.        ]\n",
            "  [ 2.85804514  1.45850736  1.14239695  0.29325367  0.5\n",
            "    0.29200271  0.17113413  0.21092513  0.13960186  0.1680002\n",
            "    0.20540029  0.          0.          0.          0.\n",
            "    0.          0.          0.          0.          0.        ]\n",
            "  [ 2.85804556  1.45850732  1.14239692  0.29325369  0.29200271\n",
            "    0.5         0.21092513  0.17113413  0.13960187  0.20540032\n",
            "    0.16800016  0.          0.          0.          0.\n",
            "    0.          0.          0.          0.          0.        ]\n",
            "  [ 1.4674015   2.85689525  1.46740146  0.21256978  0.17113413\n",
            "    0.21092513  0.5         0.29351308  0.21256981  0.2109251\n",
            "    0.17113412  0.          0.          0.          0.\n",
            "    0.          0.          0.          0.          0.        ]\n",
            "  [ 1.46740144  2.85689538  1.46740145  0.21256978  0.21092513\n",
            "    0.17113413  0.29351308  0.5         0.21256977  0.17113412\n",
            "    0.21092513  0.          0.          0.          0.\n",
            "    0.          0.          0.          0.          0.        ]\n",
            "  [ 0.91279491  1.4655122   2.85945178  0.12268391  0.13960186\n",
            "    0.13960187  0.21256981  0.21256977  0.5         0.29325366\n",
            "    0.29325365  0.          0.          0.          0.\n",
            "    0.          0.          0.          0.          0.        ]\n",
            "  [ 1.14239698  1.4585072   2.85804504  0.13960187  0.1680002\n",
            "    0.20540032  0.2109251   0.17113412  0.29325366  0.5\n",
            "    0.29200266  0.          0.          0.          0.\n",
            "    0.          0.          0.          0.          0.        ]\n",
            "  [ 1.14239675  1.4585072   2.85804493  0.13960185  0.20540029\n",
            "    0.16800016  0.17113412  0.21092513  0.29325365  0.29200266\n",
            "    0.5         0.          0.          0.          0.\n",
            "    0.          0.          0.          0.          0.        ]\n",
            "  [ 0.          0.          0.          0.          0.\n",
            "    0.          0.          0.          0.          0.\n",
            "    0.          0.          0.          0.          0.\n",
            "    0.          0.          0.          0.          0.        ]\n",
            "  [ 0.          0.          0.          0.          0.\n",
            "    0.          0.          0.          0.          0.\n",
            "    0.          0.          0.          0.          0.\n",
            "    0.          0.          0.          0.          0.        ]\n",
            "  [ 0.          0.          0.          0.          0.\n",
            "    0.          0.          0.          0.          0.\n",
            "    0.          0.          0.          0.          0.\n",
            "    0.          0.          0.          0.          0.        ]\n",
            "  [ 0.          0.          0.          0.          0.\n",
            "    0.          0.          0.          0.          0.\n",
            "    0.          0.          0.          0.          0.\n",
            "    0.          0.          0.          0.          0.        ]\n",
            "  [ 0.          0.          0.          0.          0.\n",
            "    0.          0.          0.          0.          0.\n",
            "    0.          0.          0.          0.          0.\n",
            "    0.          0.          0.          0.          0.        ]\n",
            "  [ 0.          0.          0.          0.          0.\n",
            "    0.          0.          0.          0.          0.\n",
            "    0.          0.          0.          0.          0.\n",
            "    0.          0.          0.          0.          0.        ]\n",
            "  [ 0.          0.          0.          0.          0.\n",
            "    0.          0.          0.          0.          0.\n",
            "    0.          0.          0.          0.          0.\n",
            "    0.          0.          0.          0.          0.        ]\n",
            "  [ 0.          0.          0.          0.          0.\n",
            "    0.          0.          0.          0.          0.\n",
            "    0.          0.          0.          0.          0.\n",
            "    0.          0.          0.          0.          0.        ]\n",
            "  [ 0.          0.          0.          0.          0.\n",
            "    0.          0.          0.          0.          0.\n",
            "    0.          0.          0.          0.          0.\n",
            "    0.          0.          0.          0.          0.        ]]]\n"
          ],
          "name": "stdout"
        },
        {
          "output_type": "stream",
          "text": [
            "/usr/local/lib/python3.6/dist-packages/deepchem/feat/molecule_featurizers/coulomb_matrices.py:138: RuntimeWarning: divide by zero encountered in true_divide\n",
            "  m = np.outer(z, z) / d\n"
          ],
          "name": "stderr"
        }
      ]
    },
    {
      "cell_type": "markdown",
      "metadata": {
        "id": "LBTXBxxXb4WL"
      },
      "source": [
        "上記のクーロン行列について、多くの要素が\"0\"であることに注意してください。複数の分子をまとめて変換するには、分子の原子数が異なっていても、クーロン行列はすべて同じ大きさにする必要がある。\r\n",
        "\r\n",
        "ここでは、max_atoms=20と指定しているので、返される行列のサイズは(20,20)となる。変換した分子は11個の原子しかないので、11×11の部分行列だけが非ゼロ。"
      ]
    },
    {
      "cell_type": "markdown",
      "metadata": {
        "id": "ywT8KVZ2ctxj"
      },
      "source": [
        "#### クーロン行列Eig\r\n",
        "クーロン行列の重要な特徴は、原子間距離や原子番号が変化しないため、分子の回転や並進に対して不変であること。  \r\n",
        "このような対称性を考慮することで、学習が容易になる。\r\n",
        "\r\n",
        "分子を回転させても物性は変化しない。Featurizationを変えた場合、モデルは回転が重要でないことを強制的に学習するべきだが、Featurizationが不変であれば、モデルは自動的にこの性質を獲得する。\r\n",
        "\r\n",
        "クーロン行列は、原子のインデックスの順序については変化してします。\r\n",
        "\r\n",
        "分子の物理的性質は原子の順序性には依存しないが、クーロン行列は依存する。この問題に対処するため、クーロン行列の固有スペクトルを利用して、原子のインデックスのランダムな並びに不変である、CoulumbMatrixEig featurizerを実装された。\r\n",
        "\r\n",
        "このFeaturizationの欠点は、含まれる情報量が少ないこと(N×Nの行列の代わりに、N個の固有値をしようするため)。そのため、モデルの学習が制限されてしまう。\r\n",
        "\r\n",
        "CoulombMatrixEigは，CoulombMatrixを継承し，まず分子の異なるコンフォーマルに対するクーロン行列を計算し，次に各クーロン行列の固有値を計算することで分子を高精度化します．これらの固有値は，分子間の原子数のばらつきを考慮してパディングされます．\r\n",
        "\r\n",
        "\r\n"
      ]
    },
    {
      "cell_type": "code",
      "metadata": {
        "colab": {
          "base_uri": "https://localhost:8080/"
        },
        "id": "TEsUEy9MbjXk",
        "outputId": "73658334-990e-42c4-d65b-cca18f1f49d1"
      },
      "source": [
        "# クーロン行列の固有値\r\n",
        "coulomb_mat_eig = dc.feat.CoulombMatrixEig(max_atoms=20)\r\n",
        "features = coulomb_mat_eig(propane_mol)\r\n",
        "print(features)"
      ],
      "execution_count": 15,
      "outputs": [
        {
          "output_type": "stream",
          "text": [
            "[[60.07620303 29.62963149 22.75497781  0.5713786   0.28781332  0.28548338\n",
            "   0.27558187  0.18163794  0.17460999  0.17059719  0.16640098  0.\n",
            "   0.          0.          0.          0.          0.          0.\n",
            "   0.          0.        ]]\n"
          ],
          "name": "stdout"
        },
        {
          "output_type": "stream",
          "text": [
            "/usr/local/lib/python3.6/dist-packages/deepchem/feat/molecule_featurizers/coulomb_matrices.py:138: RuntimeWarning: divide by zero encountered in true_divide\n",
            "  m = np.outer(z, z) / d\n"
          ],
          "name": "stderr"
        }
      ]
    },
    {
      "cell_type": "code",
      "metadata": {
        "id": "uL5PrJ8WhSkW"
      },
      "source": [
        ""
      ],
      "execution_count": null,
      "outputs": []
    }
  ]
}