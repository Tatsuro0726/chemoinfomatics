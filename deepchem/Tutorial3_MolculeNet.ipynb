{
  "nbformat": 4,
  "nbformat_minor": 0,
  "metadata": {
    "colab": {
      "name": "Tutorial3_MolculeNetについて.ipynb",
      "provenance": [],
      "collapsed_sections": [],
      "authorship_tag": "ABX9TyPGukzpfvXv0FFLMvCUq7cV",
      "include_colab_link": true
    },
    "kernelspec": {
      "name": "python3",
      "display_name": "Python 3"
    }
  },
  "cells": [
    {
      "cell_type": "markdown",
      "metadata": {
        "id": "view-in-github",
        "colab_type": "text"
      },
      "source": [
        "<a href=\"https://colab.research.google.com/github/Tatsuro0726/chemoinfomatics/blob/main/deepchem/Tutorial3_MolculeNet.ipynb\" target=\"_parent\"><img src=\"https://colab.research.google.com/assets/colab-badge.svg\" alt=\"Open In Colab\"/></a>"
      ]
    },
    {
      "cell_type": "markdown",
      "metadata": {
        "id": "l5RosHGDcS1d"
      },
      "source": [
        "### Tutorial 3: MoleculeNetの紹介\r\n",
        "オリジナルのMoleculeNetスイートには、主に分子特性に焦点を当てた17のデータセットがありました。ここ数年の間に、MoleculeNetは、科学的な機械学習ツールの広範な使用と開発を促進するために、より広範な科学的データセットのコレクションへと進化しました。"
      ]
    },
    {
      "cell_type": "markdown",
      "metadata": {
        "id": "pCafrsGzcok4"
      },
      "source": [
        "#### Setup"
      ]
    },
    {
      "cell_type": "code",
      "metadata": {
        "colab": {
          "base_uri": "https://localhost:8080/"
        },
        "id": "d74IsjrScLeS",
        "outputId": "1296e4a0-4596-4c88-f97e-f37ff694d947"
      },
      "source": [
        "!curl -Lo conda_installer.py https://raw.githubusercontent.com/deepchem/deepchem/master/scripts/colab_install.py\r\n",
        "import conda_installer\r\n",
        "conda_installer.install()\r\n",
        "!/root/miniconda/bin/conda info -e"
      ],
      "execution_count": 2,
      "outputs": [
        {
          "output_type": "stream",
          "text": [
            "  % Total    % Received % Xferd  Average Speed   Time    Time     Time  Current\n",
            "                                 Dload  Upload   Total   Spent    Left  Speed\n",
            "100  3490  100  3490    0     0  19071      0 --:--:-- --:--:-- --:--:-- 18967\n"
          ],
          "name": "stdout"
        },
        {
          "output_type": "stream",
          "text": [
            "add /root/miniconda/lib/python3.6/site-packages to PYTHONPATH\n",
            "python version: 3.6.9\n",
            "fetching installer from https://repo.continuum.io/miniconda/Miniconda3-latest-Linux-x86_64.sh\n",
            "done\n",
            "installing miniconda to /root/miniconda\n",
            "done\n",
            "installing rdkit, openmm, pdbfixer\n",
            "added omnia to channels\n",
            "added conda-forge to channels\n",
            "done\n",
            "conda packages installation finished!\n"
          ],
          "name": "stderr"
        },
        {
          "output_type": "stream",
          "text": [
            "# conda environments:\n",
            "#\n",
            "base                  *  /root/miniconda\n",
            "\n"
          ],
          "name": "stdout"
        }
      ]
    },
    {
      "cell_type": "code",
      "metadata": {
        "colab": {
          "base_uri": "https://localhost:8080/"
        },
        "id": "q_wM-BVUcqT3",
        "outputId": "64b7bcb7-792f-4e8c-8a49-5eb36ad5990b"
      },
      "source": [
        "!pip install --pre deepchem"
      ],
      "execution_count": 3,
      "outputs": [
        {
          "output_type": "stream",
          "text": [
            "Collecting deepchem\n",
            "\u001b[?25l  Downloading https://files.pythonhosted.org/packages/b7/f7/5828211eb0b9a78e4dad42de96dcc61d616330586c28fceda6651d8ae324/deepchem-2.5.0.dev20210116000740-py3-none-any.whl (531kB)\n",
            "\r\u001b[K     |▋                               | 10kB 15.9MB/s eta 0:00:01\r\u001b[K     |█▎                              | 20kB 21.1MB/s eta 0:00:01\r\u001b[K     |█▉                              | 30kB 15.0MB/s eta 0:00:01\r\u001b[K     |██▌                             | 40kB 10.5MB/s eta 0:00:01\r\u001b[K     |███                             | 51kB 5.0MB/s eta 0:00:01\r\u001b[K     |███▊                            | 61kB 5.5MB/s eta 0:00:01\r\u001b[K     |████▎                           | 71kB 5.7MB/s eta 0:00:01\r\u001b[K     |█████                           | 81kB 6.2MB/s eta 0:00:01\r\u001b[K     |█████▌                          | 92kB 6.2MB/s eta 0:00:01\r\u001b[K     |██████▏                         | 102kB 5.0MB/s eta 0:00:01\r\u001b[K     |██████▉                         | 112kB 5.0MB/s eta 0:00:01\r\u001b[K     |███████▍                        | 122kB 5.0MB/s eta 0:00:01\r\u001b[K     |████████                        | 133kB 5.0MB/s eta 0:00:01\r\u001b[K     |████████▋                       | 143kB 5.0MB/s eta 0:00:01\r\u001b[K     |█████████▎                      | 153kB 5.0MB/s eta 0:00:01\r\u001b[K     |█████████▉                      | 163kB 5.0MB/s eta 0:00:01\r\u001b[K     |██████████▌                     | 174kB 5.0MB/s eta 0:00:01\r\u001b[K     |███████████                     | 184kB 5.0MB/s eta 0:00:01\r\u001b[K     |███████████▊                    | 194kB 5.0MB/s eta 0:00:01\r\u001b[K     |████████████▍                   | 204kB 5.0MB/s eta 0:00:01\r\u001b[K     |█████████████                   | 215kB 5.0MB/s eta 0:00:01\r\u001b[K     |█████████████▋                  | 225kB 5.0MB/s eta 0:00:01\r\u001b[K     |██████████████▏                 | 235kB 5.0MB/s eta 0:00:01\r\u001b[K     |██████████████▉                 | 245kB 5.0MB/s eta 0:00:01\r\u001b[K     |███████████████▍                | 256kB 5.0MB/s eta 0:00:01\r\u001b[K     |████████████████                | 266kB 5.0MB/s eta 0:00:01\r\u001b[K     |████████████████▋               | 276kB 5.0MB/s eta 0:00:01\r\u001b[K     |█████████████████▎              | 286kB 5.0MB/s eta 0:00:01\r\u001b[K     |█████████████████▉              | 296kB 5.0MB/s eta 0:00:01\r\u001b[K     |██████████████████▌             | 307kB 5.0MB/s eta 0:00:01\r\u001b[K     |███████████████████▏            | 317kB 5.0MB/s eta 0:00:01\r\u001b[K     |███████████████████▊            | 327kB 5.0MB/s eta 0:00:01\r\u001b[K     |████████████████████▍           | 337kB 5.0MB/s eta 0:00:01\r\u001b[K     |█████████████████████           | 348kB 5.0MB/s eta 0:00:01\r\u001b[K     |█████████████████████▋          | 358kB 5.0MB/s eta 0:00:01\r\u001b[K     |██████████████████████▏         | 368kB 5.0MB/s eta 0:00:01\r\u001b[K     |██████████████████████▉         | 378kB 5.0MB/s eta 0:00:01\r\u001b[K     |███████████████████████▍        | 389kB 5.0MB/s eta 0:00:01\r\u001b[K     |████████████████████████        | 399kB 5.0MB/s eta 0:00:01\r\u001b[K     |████████████████████████▊       | 409kB 5.0MB/s eta 0:00:01\r\u001b[K     |█████████████████████████▎      | 419kB 5.0MB/s eta 0:00:01\r\u001b[K     |██████████████████████████      | 430kB 5.0MB/s eta 0:00:01\r\u001b[K     |██████████████████████████▌     | 440kB 5.0MB/s eta 0:00:01\r\u001b[K     |███████████████████████████▏    | 450kB 5.0MB/s eta 0:00:01\r\u001b[K     |███████████████████████████▊    | 460kB 5.0MB/s eta 0:00:01\r\u001b[K     |████████████████████████████▍   | 471kB 5.0MB/s eta 0:00:01\r\u001b[K     |█████████████████████████████   | 481kB 5.0MB/s eta 0:00:01\r\u001b[K     |█████████████████████████████▋  | 491kB 5.0MB/s eta 0:00:01\r\u001b[K     |██████████████████████████████▏ | 501kB 5.0MB/s eta 0:00:01\r\u001b[K     |██████████████████████████████▉ | 512kB 5.0MB/s eta 0:00:01\r\u001b[K     |███████████████████████████████▌| 522kB 5.0MB/s eta 0:00:01\r\u001b[K     |████████████████████████████████| 532kB 5.0MB/s \n",
            "\u001b[?25hRequirement already satisfied: scipy in /usr/local/lib/python3.6/dist-packages (from deepchem) (1.4.1)\n",
            "Requirement already satisfied: pandas in /usr/local/lib/python3.6/dist-packages (from deepchem) (1.1.5)\n",
            "Requirement already satisfied: scikit-learn in /usr/local/lib/python3.6/dist-packages (from deepchem) (0.22.2.post1)\n",
            "Requirement already satisfied: numpy in /usr/local/lib/python3.6/dist-packages (from deepchem) (1.19.5)\n",
            "Requirement already satisfied: joblib in /usr/local/lib/python3.6/dist-packages (from deepchem) (1.0.0)\n",
            "Requirement already satisfied: python-dateutil>=2.7.3 in /usr/local/lib/python3.6/dist-packages (from pandas->deepchem) (2.8.1)\n",
            "Requirement already satisfied: pytz>=2017.2 in /usr/local/lib/python3.6/dist-packages (from pandas->deepchem) (2018.9)\n",
            "Requirement already satisfied: six>=1.5 in /usr/local/lib/python3.6/dist-packages (from python-dateutil>=2.7.3->pandas->deepchem) (1.15.0)\n",
            "Installing collected packages: deepchem\n",
            "Successfully installed deepchem-2.5.0.dev20210116000740\n"
          ],
          "name": "stdout"
        }
      ]
    },
    {
      "cell_type": "code",
      "metadata": {
        "colab": {
          "base_uri": "https://localhost:8080/",
          "height": 35
        },
        "id": "NoGwcpdidUMa",
        "outputId": "dd3cf3b0-7b61-48e4-e2ba-68d0366b6da0"
      },
      "source": [
        "import deepchem as dc\r\n",
        "dc.__version__"
      ],
      "execution_count": 4,
      "outputs": [
        {
          "output_type": "execute_result",
          "data": {
            "application/vnd.google.colaboratory.intrinsic+json": {
              "type": "string"
            },
            "text/plain": [
              "'2.5.0.dev'"
            ]
          },
          "metadata": {
            "tags": []
          },
          "execution_count": 4
        }
      ]
    },
    {
      "cell_type": "markdown",
      "metadata": {
        "id": "mCMBYg0UdcdJ"
      },
      "source": [
        "#### MoleuleNetの概要"
      ]
    },
    {
      "cell_type": "code",
      "metadata": {
        "id": "no393dMndWbL"
      },
      "source": [
        "# データの読み込み\r\n",
        "tasks, datasets, transformers = dc.molnet.load_delaney(featurizer='GraphConv', splitter='random')"
      ],
      "execution_count": 5,
      "outputs": []
    },
    {
      "cell_type": "code",
      "metadata": {
        "id": "YISDBnqZdnXz"
      },
      "source": [
        "# dir(dc.molnet) : ローカルスコープにある名前のリスト(関数とか)\r\n",
        "# molnet内にある関数名等をリストとして取得\r\n",
        "molnet_dataset_name = [method for method in dir(dc.molnet) if \"load_\" in method ]"
      ],
      "execution_count": 6,
      "outputs": []
    },
    {
      "cell_type": "code",
      "metadata": {
        "colab": {
          "base_uri": "https://localhost:8080/"
        },
        "id": "Fezf1OkwezPs",
        "outputId": "0e203d36-8249-459e-b7c2-8e781de684d9"
      },
      "source": [
        "# データセット数\r\n",
        "len(molnet_dataset_name)"
      ],
      "execution_count": 7,
      "outputs": [
        {
          "output_type": "execute_result",
          "data": {
            "text/plain": [
              "40"
            ]
          },
          "metadata": {
            "tags": []
          },
          "execution_count": 7
        }
      ]
    },
    {
      "cell_type": "markdown",
      "metadata": {
        "id": "rcwjnxRDTO3O"
      },
      "source": [
        "#### MoleculeNet Loaderの説明\r\n",
        "■ dc.molnet.load_<b>XX</b>の形。  \r\n",
        "戻り値：(tasks, datasets,transformers)のタプル\r\n",
        "\r\n",
        "■ 戻り値の引数(arguments)について  \r\n",
        "* tasks<br>タスク名のリスト。多くのデータセットは「マルチタスク」。複数の目的変数がセットされている |\r\n",
        "* datasets<br> dc.data.Datasetオブジェクト(train, valid, test)のタプル。  \r\n",
        "* transformers<br>loaderの処理でデータセットに適用されたdc.trans.Transformerオブジェクトのリスト。"
      ]
    },
    {
      "cell_type": "code",
      "metadata": {
        "colab": {
          "base_uri": "https://localhost:8080/"
        },
        "id": "7BkbmZA8fFvA",
        "outputId": "d8bbffeb-891a-480c-ae40-cb5ba3d15f7b"
      },
      "source": [
        "tasks"
      ],
      "execution_count": 8,
      "outputs": [
        {
          "output_type": "execute_result",
          "data": {
            "text/plain": [
              "['measured log solubility in mols per litre']"
            ]
          },
          "metadata": {
            "tags": []
          },
          "execution_count": 8
        }
      ]
    },
    {
      "cell_type": "code",
      "metadata": {
        "colab": {
          "base_uri": "https://localhost:8080/"
        },
        "id": "Z7QcZrqsVUqf",
        "outputId": "cb711f03-a664-4404-f0d1-35933f071472"
      },
      "source": [
        "datasets"
      ],
      "execution_count": 9,
      "outputs": [
        {
          "output_type": "execute_result",
          "data": {
            "text/plain": [
              "(<DiskDataset X.shape: (902,), y.shape: (902, 1), w.shape: (902, 1), ids: ['CCCC1COC(Cn2cncn2)(O1)c3ccc(Cl)cc3Cl' 'CC#N' 'Nc2cnn(c1ccccc1)c(=O)c2Cl'\n",
              "  ... 'O=c2c(C3CCCc4ccccc43)c(O)c1ccccc1o2 ' 'CCC' 'CCCCCCCCBr'], task_names: ['measured log solubility in mols per litre']>,\n",
              " <DiskDataset X.shape: (113,), y.shape: (113, 1), w.shape: (113, 1), ids: ['OC1C(O)C(O)C(O)C(O)C1O' 'OCC(O)C2OC1OC(OC1C2O)C(Cl)(Cl)Cl '\n",
              "  'COc1c(O)c(Cl)c(Cl)c(Cl)c1Cl ' ... 'CCOc1ccc(NC(N)=O)cc1'\n",
              "  'CN(C)C(=O)NC1CCCCCCC1' 'Nc3cc2c1ccccc1ccc2c4ccccc34 '], task_names: ['measured log solubility in mols per litre']>,\n",
              " <DiskDataset X.shape: (113,), y.shape: (113, 1), w.shape: (113, 1), ids: ['Cc1cc(cc(N(=O)=O)c1O)N(=O)=O' 'Clc1ccc(cc1)c2c(Cl)cccc2Cl ' 'CCCOCCC'\n",
              "  ... 'Cc1cccc2c1ccc3ccccc32' 'Fc1ccc(F)cc1'\n",
              "  'Clc1ccc(c(Cl)c1Cl)c2c(Cl)cc(Cl)c(Cl)c2Cl '], task_names: ['measured log solubility in mols per litre']>)"
            ]
          },
          "metadata": {
            "tags": []
          },
          "execution_count": 9
        }
      ]
    },
    {
      "cell_type": "code",
      "metadata": {
        "id": "MVJuK5Z5WWDW"
      },
      "source": [
        "# datasetsの中身\r\n",
        "train, valid, test = datasets"
      ],
      "execution_count": 10,
      "outputs": []
    },
    {
      "cell_type": "code",
      "metadata": {
        "colab": {
          "base_uri": "https://localhost:8080/"
        },
        "id": "F4Q3WNTgWh3y",
        "outputId": "40fb7d1b-4454-41a7-df5d-1567d674921a"
      },
      "source": [
        "train"
      ],
      "execution_count": 15,
      "outputs": [
        {
          "output_type": "execute_result",
          "data": {
            "text/plain": [
              "<DiskDataset X.shape: (902,), y.shape: (902, 1), w.shape: (902, 1), ids: ['CCCC1COC(Cn2cncn2)(O1)c3ccc(Cl)cc3Cl' 'CC#N' 'Nc2cnn(c1ccccc1)c(=O)c2Cl'\n",
              " ... 'O=c2c(C3CCCc4ccccc43)c(O)c1ccccc1o2 ' 'CCC' 'CCCCCCCCBr'], task_names: ['measured log solubility in mols per litre']>"
            ]
          },
          "metadata": {
            "tags": []
          },
          "execution_count": 15
        }
      ]
    },
    {
      "cell_type": "code",
      "metadata": {
        "colab": {
          "base_uri": "https://localhost:8080/"
        },
        "id": "eUVr_QqyWi9K",
        "outputId": "a1f68622-844f-4f47-d8f1-c14d2a2740cb"
      },
      "source": [
        "test"
      ],
      "execution_count": 16,
      "outputs": [
        {
          "output_type": "execute_result",
          "data": {
            "text/plain": [
              "<DiskDataset X.shape: (113,), y.shape: (113, 1), w.shape: (113, 1), ids: ['Cc1cc(cc(N(=O)=O)c1O)N(=O)=O' 'Clc1ccc(cc1)c2c(Cl)cccc2Cl ' 'CCCOCCC'\n",
              " ... 'Cc1cccc2c1ccc3ccccc32' 'Fc1ccc(F)cc1'\n",
              " 'Clc1ccc(c(Cl)c1Cl)c2c(Cl)cc(Cl)c(Cl)c2Cl '], task_names: ['measured log solubility in mols per litre']>"
            ]
          },
          "metadata": {
            "tags": []
          },
          "execution_count": 16
        }
      ]
    },
    {
      "cell_type": "code",
      "metadata": {
        "colab": {
          "base_uri": "https://localhost:8080/"
        },
        "id": "3DvW8RWEWj9J",
        "outputId": "165be3a8-4199-403e-b2f9-20a95f4394f1"
      },
      "source": [
        "valid"
      ],
      "execution_count": 17,
      "outputs": [
        {
          "output_type": "execute_result",
          "data": {
            "text/plain": [
              "<DiskDataset X.shape: (113,), y.shape: (113, 1), w.shape: (113, 1), ids: ['OC1C(O)C(O)C(O)C(O)C1O' 'OCC(O)C2OC1OC(OC1C2O)C(Cl)(Cl)Cl '\n",
              " 'COc1c(O)c(Cl)c(Cl)c(Cl)c1Cl ' ... 'CCOc1ccc(NC(N)=O)cc1'\n",
              " 'CN(C)C(=O)NC1CCCCCCC1' 'Nc3cc2c1ccccc1ccc2c4ccccc34 '], task_names: ['measured log solubility in mols per litre']>"
            ]
          },
          "metadata": {
            "tags": []
          },
          "execution_count": 17
        }
      ]
    },
    {
      "cell_type": "code",
      "metadata": {
        "colab": {
          "base_uri": "https://localhost:8080/"
        },
        "id": "QQawbS8TWoAr",
        "outputId": "934eaa4a-e1bf-4d94-c3c2-bb9956dcba54"
      },
      "source": [
        "# trainの先頭データ\r\n",
        "# dc.feat.ConvMolFeaturizerによって生成されたdc.feat.mol_graphs.ConvMolオブジェクト。\r\n",
        "train.X[0]"
      ],
      "execution_count": 18,
      "outputs": [
        {
          "output_type": "execute_result",
          "data": {
            "text/plain": [
              "<deepchem.feat.mol_graphs.ConvMol at 0x7fdb05e067f0>"
            ]
          },
          "metadata": {
            "tags": []
          },
          "execution_count": 18
        }
      ]
    },
    {
      "cell_type": "code",
      "metadata": {
        "colab": {
          "base_uri": "https://localhost:8080/"
        },
        "id": "WDdo9fp-WubT",
        "outputId": "7e8617dc-7acc-4504-ecf7-d5f54910520a"
      },
      "source": [
        "# transformersの確認\r\n",
        "transformers"
      ],
      "execution_count": 19,
      "outputs": [
        {
          "output_type": "execute_result",
          "data": {
            "text/plain": [
              "[<deepchem.trans.transformers.NormalizationTransformer at 0x7fdb0569c860>]"
            ]
          },
          "metadata": {
            "tags": []
          },
          "execution_count": 19
        }
      ]
    },
    {
      "cell_type": "markdown",
      "metadata": {
        "id": "OaeW76bYXbk-"
      },
      "source": [
        "- transformerについて  \r\n",
        "  - 上記よりdc.trans.NormalizationTransformerという一つの変換が適用されていることが分かる。\r\n",
        "  - featurizer, splitterのキーワード引数を使用する。\r\n",
        "    - featurizer: ECFP, GraphConv, Weave, smiles2img\r\n",
        "    - splitter: None, index, random, scaffold, stratified(分割なし)\r\n",
        "    - 指定の文字列の代わりに、任意のFeaturizer/Splitterオブジェクトを渡すことも可能。⇒カスタマイズできるよー"
      ]
    },
    {
      "cell_type": "code",
      "metadata": {
        "id": "ZqdcTeZcXSLH"
      },
      "source": [
        "# 別のFeaturization、分割手法を選んでみる\r\n",
        "# scaffold: 構造で分割するイメージ？？？\r\n",
        "tasks, datasets, transformers = dc.molnet.load_delaney(featurizer='ECFP', splitter='scaffold')"
      ],
      "execution_count": 21,
      "outputs": []
    },
    {
      "cell_type": "code",
      "metadata": {
        "id": "9am32VTpY9mi"
      },
      "source": [
        "(train, valid, test) = datasets"
      ],
      "execution_count": 22,
      "outputs": []
    },
    {
      "cell_type": "code",
      "metadata": {
        "colab": {
          "base_uri": "https://localhost:8080/"
        },
        "id": "d2YoFKbBZtx6",
        "outputId": "fbf1f82e-8b51-48e0-8830-5611222f0ebf"
      },
      "source": [
        "train"
      ],
      "execution_count": 23,
      "outputs": [
        {
          "output_type": "execute_result",
          "data": {
            "text/plain": [
              "<DiskDataset X.shape: (902, 1024), y.shape: (902, 1), w.shape: (902, 1), ids: ['CC(C)=CCCC(C)=CC(=O)' 'CCCC=C' 'CCCCCCCCCCCCCC' ...\n",
              " 'Nc2cccc3nc1ccccc1cc23 ' 'C1CCCCCC1' 'OC1CCCCCC1'], task_names: ['measured log solubility in mols per litre']>"
            ]
          },
          "metadata": {
            "tags": []
          },
          "execution_count": 23
        }
      ]
    },
    {
      "cell_type": "code",
      "metadata": {
        "colab": {
          "base_uri": "https://localhost:8080/"
        },
        "id": "uZQhWEVDZuqo",
        "outputId": "c078950c-9aaa-42ba-f3a6-d3ebdf1ae8e3"
      },
      "source": [
        "# Fingerprintで1024ビットに変換されている\r\n",
        "train.X.shape"
      ],
      "execution_count": 26,
      "outputs": [
        {
          "output_type": "execute_result",
          "data": {
            "text/plain": [
              "(902, 1024)"
            ]
          },
          "metadata": {
            "tags": []
          },
          "execution_count": 26
        }
      ]
    },
    {
      "cell_type": "code",
      "metadata": {
        "id": "d6Vrk25VZwfm"
      },
      "source": [
        ""
      ],
      "execution_count": null,
      "outputs": []
    }
  ]
}