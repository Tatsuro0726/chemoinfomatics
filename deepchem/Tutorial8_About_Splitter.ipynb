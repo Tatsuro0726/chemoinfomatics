{
  "nbformat": 4,
  "nbformat_minor": 0,
  "metadata": {
    "colab": {
      "name": "Tutorial8_About Splitter.ipynb",
      "provenance": [],
      "collapsed_sections": [],
      "authorship_tag": "ABX9TyMnw6LIX+HRnZhM9cHc+JQE",
      "include_colab_link": true
    },
    "kernelspec": {
      "name": "python3",
      "display_name": "Python 3"
    }
  },
  "cells": [
    {
      "cell_type": "markdown",
      "metadata": {
        "id": "view-in-github",
        "colab_type": "text"
      },
      "source": [
        "<a href=\"https://colab.research.google.com/github/Tatsuro0726/chemoinfomatics/blob/main/deepchem/Tutorial8_About_Splitter.ipynb\" target=\"_parent\"><img src=\"https://colab.research.google.com/assets/colab-badge.svg\" alt=\"Open In Colab\"/></a>"
      ]
    },
    {
      "cell_type": "markdown",
      "metadata": {
        "id": "KNySqRsfiFAL"
      },
      "source": [
        "#### Tutorial Part8: 分割方法について\r\n",
        "DeepChemが提供する分割方法を紹介"
      ]
    },
    {
      "cell_type": "markdown",
      "metadata": {
        "id": "RsJ6By-tiZZS"
      },
      "source": [
        "#### Setup"
      ]
    },
    {
      "cell_type": "code",
      "metadata": {
        "colab": {
          "base_uri": "https://localhost:8080/"
        },
        "id": "WkXHTSYdiDqL",
        "outputId": "043a06cb-b69f-4fe5-a104-b6714fcf9e7a"
      },
      "source": [
        "!curl -Lo conda_installer.py https://raw.githubusercontent.com/deepchem/deepchem/master/scripts/colab_install.py\r\n",
        "import conda_installer\r\n",
        "conda_installer.install()\r\n",
        "!/root/miniconda/bin/conda info -e"
      ],
      "execution_count": 1,
      "outputs": [
        {
          "output_type": "stream",
          "text": [
            "  % Total    % Received % Xferd  Average Speed   Time    Time     Time  Current\n",
            "                                 Dload  Upload   Total   Spent    Left  Speed\n",
            "\r  0     0    0     0    0     0      0      0 --:--:-- --:--:-- --:--:--     0\r100  3490  100  3490    0     0  20529      0 --:--:-- --:--:-- --:--:-- 20650\n"
          ],
          "name": "stdout"
        },
        {
          "output_type": "stream",
          "text": [
            "add /root/miniconda/lib/python3.6/site-packages to PYTHONPATH\n",
            "python version: 3.6.9\n",
            "fetching installer from https://repo.continuum.io/miniconda/Miniconda3-latest-Linux-x86_64.sh\n",
            "done\n",
            "installing miniconda to /root/miniconda\n",
            "done\n",
            "installing rdkit, openmm, pdbfixer\n",
            "added omnia to channels\n",
            "added conda-forge to channels\n",
            "done\n",
            "conda packages installation finished!\n"
          ],
          "name": "stderr"
        },
        {
          "output_type": "stream",
          "text": [
            "# conda environments:\n",
            "#\n",
            "base                  *  /root/miniconda\n",
            "\n"
          ],
          "name": "stdout"
        }
      ]
    },
    {
      "cell_type": "code",
      "metadata": {
        "colab": {
          "base_uri": "https://localhost:8080/",
          "height": 208
        },
        "id": "LtSE7PIFiasZ",
        "outputId": "a286f614-de62-4d7a-b8d6-162a0c61a0ff"
      },
      "source": [
        "!pip install --pre deepchem\r\n",
        "import deepchem as dc\r\n",
        "deepchem.__version__"
      ],
      "execution_count": 3,
      "outputs": [
        {
          "output_type": "stream",
          "text": [
            "Requirement already satisfied: deepchem in /usr/local/lib/python3.6/dist-packages (2.5.0.dev20210116000740)\n",
            "Requirement already satisfied: pandas in /usr/local/lib/python3.6/dist-packages (from deepchem) (1.1.5)\n",
            "Requirement already satisfied: scipy in /usr/local/lib/python3.6/dist-packages (from deepchem) (1.4.1)\n",
            "Requirement already satisfied: scikit-learn in /usr/local/lib/python3.6/dist-packages (from deepchem) (0.22.2.post1)\n",
            "Requirement already satisfied: numpy in /usr/local/lib/python3.6/dist-packages (from deepchem) (1.19.5)\n",
            "Requirement already satisfied: joblib in /usr/local/lib/python3.6/dist-packages (from deepchem) (1.0.0)\n",
            "Requirement already satisfied: pytz>=2017.2 in /usr/local/lib/python3.6/dist-packages (from pandas->deepchem) (2018.9)\n",
            "Requirement already satisfied: python-dateutil>=2.7.3 in /usr/local/lib/python3.6/dist-packages (from pandas->deepchem) (2.8.1)\n",
            "Requirement already satisfied: six>=1.5 in /usr/local/lib/python3.6/dist-packages (from python-dateutil>=2.7.3->pandas->deepchem) (1.15.0)\n"
          ],
          "name": "stdout"
        },
        {
          "output_type": "execute_result",
          "data": {
            "application/vnd.google.colaboratory.intrinsic+json": {
              "type": "string"
            },
            "text/plain": [
              "'2.5.0.dev'"
            ]
          },
          "metadata": {
            "tags": []
          },
          "execution_count": 3
        }
      ]
    },
    {
      "cell_type": "markdown",
      "metadata": {
        "id": "wGFWsFN8jKp3"
      },
      "source": [
        "#### Splitters\r\n",
        "DeepChemでは、Splitterオブジェクトによってデータを複数のデータセットに分割する方法が定義されている。データに適した方法を選択することは非常に重要。そうでないと、学習後のモデルが実際よりも上手く予測できているように見えてしまうことがあるため。\r\n",
        "\r\n",
        "一般的な医薬品開発パイプラインを考えてみる。\r\n",
        "何千もの分子をスクリーニングして、興味のあるターゲットに結合するかどうかを確認することから始まる。うまくいきそうなものを見つけたら、その上で何千ものバリエーションをテストして、より強く結合するものを探して最適化していく。その後、動物実験をして許容できない毒性があることがわかった場合には、問題を解決するために、より多くのバリエーションを試すことになる。\r\n",
        "\r\n",
        "これは化学のデータセットに対して重要な結果をもたらす。\r\n",
        "化学のデータセットには多くの場合、互いに非常に似た分子が含まれている。これを一般的な方法で学習データとテストデータに分割すると学習セットには、たとえそれらが完全に同一ではなくても、テストセットの分子と非常に類似している分子が多く含まれる。その結果、テストセットでうまくいくかもしれないが、学習データとあまり似ていないデータではひどく失敗してしまう。"
      ]
    },
    {
      "cell_type": "markdown",
      "metadata": {
        "id": "iopNrnyPk6WB"
      },
      "source": [
        "- RandomSplitter\r\n",
        "    - ランダムな方法で、学習データ・検証データ・テストデータに分割する方法。\r\n",
        "    - 非常に似た分子が含まれているデータセットの場合は、あまり良い分割とは言えない。\r\n",
        "\r\n",
        "- RandomStratifiedSplitter(ランダム層化スプリッター)\r\n",
        "    - 陽性、陰性のデータがアンバランスなデータセットに対して使用する分割方法。\r\n",
        "    - 陽性、陰性のデータを均等に分割する。\r\n",
        "\r\n",
        "- ScaffoldSplitter\r\n",
        "    - 多くの分子が非常に似ているという問題に対処するための分割方法。\r\n",
        "    - 各分子の骨格となる構造を特定し、同じ構造を有するすべての分子が同じデータセットに含まれるようにする。2つの分子が異なる骨格を有していても、ほかの点で非常に似ていることがあるため、完全な対応策でない。ただ、ランダムな分割よりも大幅に改善される。\r\n",
        "\r\n",
        "- ButinaSplitter\r\n",
        "    - 類似分子の問題を解決する別の分割方法。\r\n",
        "    - Fingerprintに基づいて分子をクラスタリングし、類似したFingerprintを持つものが同じデータセットに含まれるようにする。\r\n",
        "    - 分割アルゴリズムの所要時間は、分子数の2乗に比例するため、小規模～中規模データセットに有用。\r\n",
        "\r\n",
        "- SpecifiedSplitter\r\n",
        "    - ユーザーが自身で分割する。\r\n",
        "    - データに対しての適した分割方法を事前に基地である場合に便利。\r\n",
        "    - 例えば、時間的分割がある。新しい分子を継続的に生成してテストしている研究プロジェクトを考える。データが増えてくると、確実に増えてきたデータセットで定期的にモデルを再訓練し、そのモデルを使って、まだテストしていないほかの分子の結果を予測する。"
      ]
    },
    {
      "cell_type": "code",
      "metadata": {
        "colab": {
          "base_uri": "https://localhost:8080/"
        },
        "id": "7r3E62KljB-B",
        "outputId": "f6728b42-8edf-4ee2-b519-a84a4b253b50"
      },
      "source": [
        "# splitterごとの性能評価\r\n",
        "splitters = ['random', 'scaffold', 'butina']\r\n",
        "metric = dc.metrics.Metric(dc.metrics.roc_auc_score)\r\n",
        "\r\n",
        "for splitter in splitters:\r\n",
        "    tasks, datasets, transformers = dc.molnet.load_tox21(featurizer='ECFP', splitter=splitter)\r\n",
        "    train, valid, test = datasets\r\n",
        "    model = dc.models.MultitaskClassifier(n_tasks=len(tasks), n_features=1024, layer_sizes=[1000])\r\n",
        "    model.fit(train, nb_epoch=10)\r\n",
        "    print('splitter: ', splitter)\r\n",
        "    print('training set score: {}'.format(model.evaluate(train, [metric], transformers)))\r\n",
        "    print('test set score: {}'.format(model.evaluate(test, [metric], transformers)))\r\n",
        "    print('*'*20)"
      ],
      "execution_count": 14,
      "outputs": [
        {
          "output_type": "stream",
          "text": [
            "splitter:  random\n",
            "training set score: {'roc_auc_score': 0.9549845702836771}\n",
            "test set score: {'roc_auc_score': 0.7646855918127599}\n",
            "********************\n",
            "splitter:  scaffold\n",
            "training set score: {'roc_auc_score': 0.9579291201300105}\n",
            "test set score: {'roc_auc_score': 0.6785832816646115}\n",
            "********************\n",
            "splitter:  butina\n",
            "training set score: {'roc_auc_score': 0.9586535060774185}\n",
            "test set score: {'roc_auc_score': 0.6023001404023747}\n",
            "********************\n"
          ],
          "name": "stdout"
        }
      ]
    },
    {
      "cell_type": "markdown",
      "metadata": {
        "id": "VVvs8VrhsIjZ"
      },
      "source": [
        "randomが精度が高いが、優れているわけではない。\r\n",
        "テスト集合には、訓練集合と非常によく似た分子が多く含まれているため、真の意味での独立性はない。"
      ]
    },
    {
      "cell_type": "code",
      "metadata": {
        "id": "Ouk6zkp6rUVw"
      },
      "source": [
        ""
      ],
      "execution_count": null,
      "outputs": []
    }
  ]
}