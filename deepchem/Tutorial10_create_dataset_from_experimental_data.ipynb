{
  "nbformat": 4,
  "nbformat_minor": 0,
  "metadata": {
    "colab": {
      "name": "Tutorial10_create dataset from experimental data.ipynb",
      "provenance": [],
      "collapsed_sections": [],
      "authorship_tag": "ABX9TyOTArKoWHLiKYjyM/EI667/",
      "include_colab_link": true
    },
    "kernelspec": {
      "name": "python3",
      "display_name": "Python 3"
    }
  },
  "cells": [
    {
      "cell_type": "markdown",
      "metadata": {
        "id": "view-in-github",
        "colab_type": "text"
      },
      "source": [
        "<a href=\"https://colab.research.google.com/github/Tatsuro0726/chemoinfomatics/blob/main/deepchem/Tutorial10_create_dataset_from_experimental_data.ipynb\" target=\"_parent\"><img src=\"https://colab.research.google.com/assets/colab-badge.svg\" alt=\"Open In Colab\"/></a>"
      ]
    },
    {
      "cell_type": "markdown",
      "metadata": {
        "id": "c5gJ3YBwb8ai"
      },
      "source": [
        "#### Tutorial:10\r\n",
        "実験データからのデータセットの作成方法"
      ]
    },
    {
      "cell_type": "markdown",
      "metadata": {
        "id": "BvX6nW6ycHF2"
      },
      "source": [
        "#### Setup"
      ]
    },
    {
      "cell_type": "code",
      "metadata": {
        "colab": {
          "base_uri": "https://localhost:8080/"
        },
        "id": "mMcMU57qbthw",
        "outputId": "74cc6fb0-7b68-4ba7-dd27-d5811a5ce6d1"
      },
      "source": [
        "!curl -Lo conda_installer.py https://raw.githubusercontent.com/deepchem/deepchem/master/scripts/colab_install.py\r\n",
        "import conda_installer\r\n",
        "conda_installer.install()\r\n",
        "!/root/miniconda/bin/conda info -e"
      ],
      "execution_count": 1,
      "outputs": [
        {
          "output_type": "stream",
          "text": [
            "  % Total    % Received % Xferd  Average Speed   Time    Time     Time  Current\n",
            "                                 Dload  Upload   Total   Spent    Left  Speed\n",
            "100  3490  100  3490    0     0  13632      0 --:--:-- --:--:-- --:--:-- 13632\n"
          ],
          "name": "stdout"
        },
        {
          "output_type": "stream",
          "text": [
            "add /root/miniconda/lib/python3.6/site-packages to PYTHONPATH\n",
            "python version: 3.6.9\n",
            "fetching installer from https://repo.continuum.io/miniconda/Miniconda3-latest-Linux-x86_64.sh\n",
            "done\n",
            "installing miniconda to /root/miniconda\n",
            "done\n",
            "installing rdkit, openmm, pdbfixer\n",
            "added omnia to channels\n",
            "added conda-forge to channels\n",
            "done\n",
            "conda packages installation finished!\n"
          ],
          "name": "stderr"
        },
        {
          "output_type": "stream",
          "text": [
            "# conda environments:\n",
            "#\n",
            "base                  *  /root/miniconda\n",
            "\n"
          ],
          "name": "stdout"
        }
      ]
    },
    {
      "cell_type": "code",
      "metadata": {
        "colab": {
          "base_uri": "https://localhost:8080/",
          "height": 281
        },
        "id": "wgieYMIKcKTZ",
        "outputId": "c685af37-c261-4a00-c1a0-1e94b32de271"
      },
      "source": [
        "!pip install --pre deepchem\r\n",
        "import deepchem\r\n",
        "deepchem.__version__"
      ],
      "execution_count": 2,
      "outputs": [
        {
          "output_type": "stream",
          "text": [
            "Collecting deepchem\n",
            "\u001b[?25l  Downloading https://files.pythonhosted.org/packages/4b/56/733f76e52112e084ae2f77f792e448040db81e420f37021f90ea72964786/deepchem-2.5.0.dev20210119010428-py3-none-any.whl (531kB)\n",
            "\r\u001b[K     |▋                               | 10kB 16.7MB/s eta 0:00:01\r\u001b[K     |█▎                              | 20kB 23.5MB/s eta 0:00:01\r\u001b[K     |█▉                              | 30kB 18.9MB/s eta 0:00:01\r\u001b[K     |██▌                             | 40kB 15.9MB/s eta 0:00:01\r\u001b[K     |███                             | 51kB 17.4MB/s eta 0:00:01\r\u001b[K     |███▊                            | 61kB 16.4MB/s eta 0:00:01\r\u001b[K     |████▎                           | 71kB 15.5MB/s eta 0:00:01\r\u001b[K     |█████                           | 81kB 15.1MB/s eta 0:00:01\r\u001b[K     |█████▌                          | 92kB 13.9MB/s eta 0:00:01\r\u001b[K     |██████▏                         | 102kB 13.3MB/s eta 0:00:01\r\u001b[K     |██████▉                         | 112kB 13.3MB/s eta 0:00:01\r\u001b[K     |███████▍                        | 122kB 13.3MB/s eta 0:00:01\r\u001b[K     |████████                        | 133kB 13.3MB/s eta 0:00:01\r\u001b[K     |████████▋                       | 143kB 13.3MB/s eta 0:00:01\r\u001b[K     |█████████▎                      | 153kB 13.3MB/s eta 0:00:01\r\u001b[K     |█████████▉                      | 163kB 13.3MB/s eta 0:00:01\r\u001b[K     |██████████▌                     | 174kB 13.3MB/s eta 0:00:01\r\u001b[K     |███████████                     | 184kB 13.3MB/s eta 0:00:01\r\u001b[K     |███████████▊                    | 194kB 13.3MB/s eta 0:00:01\r\u001b[K     |████████████▍                   | 204kB 13.3MB/s eta 0:00:01\r\u001b[K     |█████████████                   | 215kB 13.3MB/s eta 0:00:01\r\u001b[K     |█████████████▋                  | 225kB 13.3MB/s eta 0:00:01\r\u001b[K     |██████████████▏                 | 235kB 13.3MB/s eta 0:00:01\r\u001b[K     |██████████████▉                 | 245kB 13.3MB/s eta 0:00:01\r\u001b[K     |███████████████▍                | 256kB 13.3MB/s eta 0:00:01\r\u001b[K     |████████████████                | 266kB 13.3MB/s eta 0:00:01\r\u001b[K     |████████████████▋               | 276kB 13.3MB/s eta 0:00:01\r\u001b[K     |█████████████████▎              | 286kB 13.3MB/s eta 0:00:01\r\u001b[K     |█████████████████▉              | 296kB 13.3MB/s eta 0:00:01\r\u001b[K     |██████████████████▌             | 307kB 13.3MB/s eta 0:00:01\r\u001b[K     |███████████████████▏            | 317kB 13.3MB/s eta 0:00:01\r\u001b[K     |███████████████████▊            | 327kB 13.3MB/s eta 0:00:01\r\u001b[K     |████████████████████▍           | 337kB 13.3MB/s eta 0:00:01\r\u001b[K     |█████████████████████           | 348kB 13.3MB/s eta 0:00:01\r\u001b[K     |█████████████████████▋          | 358kB 13.3MB/s eta 0:00:01\r\u001b[K     |██████████████████████▏         | 368kB 13.3MB/s eta 0:00:01\r\u001b[K     |██████████████████████▉         | 378kB 13.3MB/s eta 0:00:01\r\u001b[K     |███████████████████████▍        | 389kB 13.3MB/s eta 0:00:01\r\u001b[K     |████████████████████████        | 399kB 13.3MB/s eta 0:00:01\r\u001b[K     |████████████████████████▊       | 409kB 13.3MB/s eta 0:00:01\r\u001b[K     |█████████████████████████▎      | 419kB 13.3MB/s eta 0:00:01\r\u001b[K     |██████████████████████████      | 430kB 13.3MB/s eta 0:00:01\r\u001b[K     |██████████████████████████▌     | 440kB 13.3MB/s eta 0:00:01\r\u001b[K     |███████████████████████████▏    | 450kB 13.3MB/s eta 0:00:01\r\u001b[K     |███████████████████████████▊    | 460kB 13.3MB/s eta 0:00:01\r\u001b[K     |████████████████████████████▍   | 471kB 13.3MB/s eta 0:00:01\r\u001b[K     |█████████████████████████████   | 481kB 13.3MB/s eta 0:00:01\r\u001b[K     |█████████████████████████████▋  | 491kB 13.3MB/s eta 0:00:01\r\u001b[K     |██████████████████████████████▏ | 501kB 13.3MB/s eta 0:00:01\r\u001b[K     |██████████████████████████████▉ | 512kB 13.3MB/s eta 0:00:01\r\u001b[K     |███████████████████████████████▌| 522kB 13.3MB/s eta 0:00:01\r\u001b[K     |████████████████████████████████| 532kB 13.3MB/s \n",
            "\u001b[?25hRequirement already satisfied: scipy in /usr/local/lib/python3.6/dist-packages (from deepchem) (1.4.1)\n",
            "Requirement already satisfied: scikit-learn in /usr/local/lib/python3.6/dist-packages (from deepchem) (0.22.2.post1)\n",
            "Requirement already satisfied: pandas in /usr/local/lib/python3.6/dist-packages (from deepchem) (1.1.5)\n",
            "Requirement already satisfied: numpy in /usr/local/lib/python3.6/dist-packages (from deepchem) (1.19.5)\n",
            "Requirement already satisfied: joblib in /usr/local/lib/python3.6/dist-packages (from deepchem) (1.0.0)\n",
            "Requirement already satisfied: python-dateutil>=2.7.3 in /usr/local/lib/python3.6/dist-packages (from pandas->deepchem) (2.8.1)\n",
            "Requirement already satisfied: pytz>=2017.2 in /usr/local/lib/python3.6/dist-packages (from pandas->deepchem) (2018.9)\n",
            "Requirement already satisfied: six>=1.5 in /usr/local/lib/python3.6/dist-packages (from python-dateutil>=2.7.3->pandas->deepchem) (1.15.0)\n",
            "Installing collected packages: deepchem\n",
            "Successfully installed deepchem-2.5.0.dev20210119010428\n"
          ],
          "name": "stdout"
        },
        {
          "output_type": "execute_result",
          "data": {
            "application/vnd.google.colaboratory.intrinsic+json": {
              "type": "string"
            },
            "text/plain": [
              "'2.5.0.dev'"
            ]
          },
          "metadata": {
            "tags": []
          },
          "execution_count": 2
        }
      ]
    },
    {
      "cell_type": "markdown",
      "metadata": {
        "id": "40u0JKlFccSt"
      },
      "source": [
        "#### データファイルでの作業\r\n",
        "\r\n",
        "実験データから機械学習モデルを構築する場合を考える。\r\n",
        "\r\n",
        " - 構築する際の課題\r\n",
        "    - データの分解・解析\r\n",
        "    - データのノイズ除去\r\n",
        "\r\n",
        "- 入力フォーマット  \r\n",
        "    - DeepChemでは、.csv, .sdf, .fasta, .png,などをサポート。\r\n",
        "\r\n",
        "- Featurization\r\n",
        "    - 分子をベクトルに変換するためにFeaturizerオブジェクトを渡す必要がある。\r\n",
        "\r\n",
        "- データの解析\r\n",
        "    - データ読み込みのため、Pandasを使用\r\n",
        "    - 薬物名をSMILESに変換するためpubchempyを使用。\r\n",
        "\r\n"
      ]
    },
    {
      "cell_type": "code",
      "metadata": {
        "colab": {
          "base_uri": "https://localhost:8080/"
        },
        "id": "ZqMXw5k3czBO",
        "outputId": "95fac699-fa35-4227-fda5-4fd2dacbd50d"
      },
      "source": [
        "# pubchempyを使用\r\n",
        "!/root/miniconda/bin/conda install pubchempy"
      ],
      "execution_count": 5,
      "outputs": [
        {
          "output_type": "stream",
          "text": [
            "Collecting package metadata (current_repodata.json): - \b\b\\ \b\b| \b\b/ \b\b- \b\b\\ \b\b| \b\b/ \b\b- \b\b\\ \b\b| \b\b/ \b\b- \b\b\\ \b\b| \b\b/ \b\b- \b\b\\ \b\b| \b\b/ \b\b- \b\b\\ \b\b| \b\b/ \b\b- \b\bdone\n",
            "Solving environment: | \b\b/ \b\b- \b\b\\ \b\b| \b\b/ \b\b- \b\b\\ \b\b| \b\b/ \b\b- \b\b\\ \b\b| \b\b/ \b\b- \b\b\\ \b\b| \b\b/ \b\b- \b\b\\ \b\b| \b\b/ \b\b- \b\b\\ \b\b| \b\b/ \b\b- \b\b\\ \b\b| \b\b/ \b\b- \b\b\\ \b\bdone\n",
            "\n",
            "# All requested packages already installed.\n",
            "\n"
          ],
          "name": "stdout"
        }
      ]
    },
    {
      "cell_type": "code",
      "metadata": {
        "id": "-Zti-5AOfolv"
      },
      "source": [
        "import os\r\n",
        "import pandas as pd\r\n",
        "from pubchempy import get_cids, get_compounds"
      ],
      "execution_count": 8,
      "outputs": []
    },
    {
      "cell_type": "code",
      "metadata": {
        "id": "1ML67ppOfKBs"
      },
      "source": [
        "import os\r\n",
        "from IPython.display import Image, display\r\n",
        "current_dir = os.path.dirname(os.path.realpath('__file__'))"
      ],
      "execution_count": 6,
      "outputs": []
    },
    {
      "cell_type": "code",
      "metadata": {
        "id": "olyk0T9OegLf"
      },
      "source": [
        "# xlsxファイルのダウンロード\r\n",
        "import deepchem as dc\r\n",
        "dc.utils.download_url(\r\n",
        "    'https://github.com/deepchem/deepchem/raw/master/datasets/Positive%20Modulators%20Summary_%20918.TUC%20_%20v1.xlsx',\r\n",
        "    current_dir,\r\n",
        "    'Positive Modulators Summary_ 918.TUC _ v1.xlsx'\r\n",
        ")"
      ],
      "execution_count": 7,
      "outputs": []
    },
    {
      "cell_type": "code",
      "metadata": {
        "id": "TAzjZ7lQfNAE"
      },
      "source": [
        "# rawデータファイルの読み込み\r\n",
        "raw_data_file = os.path.join(current_dir, 'Positive Modulators Summary_ 918.TUC _ v1.xlsx')\r\n",
        "raw_data_excel = pd.ExcelFile(raw_data_file)\r\n",
        "\r\n",
        "# second sheet only\r\n",
        "raw_data = raw_data_excel.parse(raw_data_excel.sheet_names[1])"
      ],
      "execution_count": 9,
      "outputs": []
    },
    {
      "cell_type": "code",
      "metadata": {
        "colab": {
          "base_uri": "https://localhost:8080/",
          "height": 378
        },
        "id": "o_yIvdv9f9ts",
        "outputId": "6a349b24-8224-4e55-f1ad-7b78b214cfc7"
      },
      "source": [
        "# 5行確認\r\n",
        "raw_data.head()"
      ],
      "execution_count": 10,
      "outputs": [
        {
          "output_type": "execute_result",
          "data": {
            "text/html": [
              "<div>\n",
              "<style scoped>\n",
              "    .dataframe tbody tr th:only-of-type {\n",
              "        vertical-align: middle;\n",
              "    }\n",
              "\n",
              "    .dataframe tbody tr th {\n",
              "        vertical-align: top;\n",
              "    }\n",
              "\n",
              "    .dataframe thead th {\n",
              "        text-align: right;\n",
              "    }\n",
              "</style>\n",
              "<table border=\"1\" class=\"dataframe\">\n",
              "  <thead>\n",
              "    <tr style=\"text-align: right;\">\n",
              "      <th></th>\n",
              "      <th>Unnamed: 0</th>\n",
              "      <th>Unnamed: 1</th>\n",
              "      <th>Unnamed: 2</th>\n",
              "      <th>Metric #1 (-120 mV Peak)</th>\n",
              "      <th>Unnamed: 4</th>\n",
              "      <th>Unnamed: 5</th>\n",
              "      <th>Unnamed: 6</th>\n",
              "      <th>Unnamed: 7</th>\n",
              "    </tr>\n",
              "  </thead>\n",
              "  <tbody>\n",
              "    <tr>\n",
              "      <th>0</th>\n",
              "      <td>NaN</td>\n",
              "      <td>NaN</td>\n",
              "      <td>NaN</td>\n",
              "      <td>Vehicle</td>\n",
              "      <td>NaN</td>\n",
              "      <td>4</td>\n",
              "      <td>Replications</td>\n",
              "      <td>NaN</td>\n",
              "    </tr>\n",
              "    <tr>\n",
              "      <th>1</th>\n",
              "      <td>TA ##</td>\n",
              "      <td>Position</td>\n",
              "      <td>TA ID</td>\n",
              "      <td>Mean</td>\n",
              "      <td>SD</td>\n",
              "      <td>Threshold (%) = Mean + 4xSD</td>\n",
              "      <td>N #1 (%)</td>\n",
              "      <td>N #2 (%)</td>\n",
              "    </tr>\n",
              "    <tr>\n",
              "      <th>2</th>\n",
              "      <td>1</td>\n",
              "      <td>1-A02</td>\n",
              "      <td>Penicillin V Potassium</td>\n",
              "      <td>-12.8689</td>\n",
              "      <td>6.74705</td>\n",
              "      <td>14.1193</td>\n",
              "      <td>-10.404</td>\n",
              "      <td>-18.1929</td>\n",
              "    </tr>\n",
              "    <tr>\n",
              "      <th>3</th>\n",
              "      <td>2</td>\n",
              "      <td>1-A03</td>\n",
              "      <td>Mycophenolate Mofetil</td>\n",
              "      <td>-12.8689</td>\n",
              "      <td>6.74705</td>\n",
              "      <td>14.1193</td>\n",
              "      <td>-12.4453</td>\n",
              "      <td>-11.7175</td>\n",
              "    </tr>\n",
              "    <tr>\n",
              "      <th>4</th>\n",
              "      <td>3</td>\n",
              "      <td>1-A04</td>\n",
              "      <td>Metaxalone</td>\n",
              "      <td>-12.8689</td>\n",
              "      <td>6.74705</td>\n",
              "      <td>14.1193</td>\n",
              "      <td>-8.65572</td>\n",
              "      <td>-17.7753</td>\n",
              "    </tr>\n",
              "  </tbody>\n",
              "</table>\n",
              "</div>"
            ],
            "text/plain": [
              "  Unnamed: 0 Unnamed: 1  ...    Unnamed: 6 Unnamed: 7\n",
              "0        NaN        NaN  ...  Replications        NaN\n",
              "1      TA ##   Position  ...      N #1 (%)   N #2 (%)\n",
              "2          1      1-A02  ...       -10.404   -18.1929\n",
              "3          2      1-A03  ...      -12.4453   -11.7175\n",
              "4          3      1-A04  ...      -8.65572   -17.7753\n",
              "\n",
              "[5 rows x 8 columns]"
            ]
          },
          "metadata": {
            "tags": []
          },
          "execution_count": 10
        }
      ]
    },
    {
      "cell_type": "code",
      "metadata": {
        "id": "Blt_TRw0f8iE"
      },
      "source": [
        "# 不要なカラムを削除\r\n",
        "raw_data = raw_data.iloc[2:, [2,6,7]]\r\n",
        "\r\n",
        "# インデックスのリセット\r\n",
        "raw_data.reset_index(inplace=True)\r\n",
        "\r\n",
        "# カラムのリネーム\r\n",
        "raw_data.columns = ['label', 'drug', 'n1','n2']"
      ],
      "execution_count": 11,
      "outputs": []
    },
    {
      "cell_type": "code",
      "metadata": {
        "colab": {
          "base_uri": "https://localhost:8080/",
          "height": 202
        },
        "id": "57HfMjjDgeLg",
        "outputId": "7aa27508-2187-4247-ccc0-ad620adc8912"
      },
      "source": [
        "raw_data.head(5)"
      ],
      "execution_count": 12,
      "outputs": [
        {
          "output_type": "execute_result",
          "data": {
            "text/html": [
              "<div>\n",
              "<style scoped>\n",
              "    .dataframe tbody tr th:only-of-type {\n",
              "        vertical-align: middle;\n",
              "    }\n",
              "\n",
              "    .dataframe tbody tr th {\n",
              "        vertical-align: top;\n",
              "    }\n",
              "\n",
              "    .dataframe thead th {\n",
              "        text-align: right;\n",
              "    }\n",
              "</style>\n",
              "<table border=\"1\" class=\"dataframe\">\n",
              "  <thead>\n",
              "    <tr style=\"text-align: right;\">\n",
              "      <th></th>\n",
              "      <th>label</th>\n",
              "      <th>drug</th>\n",
              "      <th>n1</th>\n",
              "      <th>n2</th>\n",
              "    </tr>\n",
              "  </thead>\n",
              "  <tbody>\n",
              "    <tr>\n",
              "      <th>0</th>\n",
              "      <td>2</td>\n",
              "      <td>Penicillin V Potassium</td>\n",
              "      <td>-10.404</td>\n",
              "      <td>-18.1929</td>\n",
              "    </tr>\n",
              "    <tr>\n",
              "      <th>1</th>\n",
              "      <td>3</td>\n",
              "      <td>Mycophenolate Mofetil</td>\n",
              "      <td>-12.4453</td>\n",
              "      <td>-11.7175</td>\n",
              "    </tr>\n",
              "    <tr>\n",
              "      <th>2</th>\n",
              "      <td>4</td>\n",
              "      <td>Metaxalone</td>\n",
              "      <td>-8.65572</td>\n",
              "      <td>-17.7753</td>\n",
              "    </tr>\n",
              "    <tr>\n",
              "      <th>3</th>\n",
              "      <td>5</td>\n",
              "      <td>Terazosin·HCl</td>\n",
              "      <td>-11.5048</td>\n",
              "      <td>16.0825</td>\n",
              "    </tr>\n",
              "    <tr>\n",
              "      <th>4</th>\n",
              "      <td>6</td>\n",
              "      <td>Fluvastatin·Na</td>\n",
              "      <td>-11.1354</td>\n",
              "      <td>-14.553</td>\n",
              "    </tr>\n",
              "  </tbody>\n",
              "</table>\n",
              "</div>"
            ],
            "text/plain": [
              "   label                    drug       n1       n2\n",
              "0      2  Penicillin V Potassium  -10.404 -18.1929\n",
              "1      3   Mycophenolate Mofetil -12.4453 -11.7175\n",
              "2      4              Metaxalone -8.65572 -17.7753\n",
              "3      5           Terazosin·HCl -11.5048  16.0825\n",
              "4      6          Fluvastatin·Na -11.1354  -14.553"
            ]
          },
          "metadata": {
            "tags": []
          },
          "execution_count": 12
        }
      ]
    },
    {
      "cell_type": "code",
      "metadata": {
        "colab": {
          "base_uri": "https://localhost:8080/"
        },
        "id": "d4VFRZjqgkJ7",
        "outputId": "764a6ffd-d4f2-44fc-af36-5ac1dc6d02b9"
      },
      "source": [
        "# 薬物名を抽出\r\n",
        "drugs = raw_data['drug'].values\r\n",
        "print(drugs[:5])"
      ],
      "execution_count": 13,
      "outputs": [
        {
          "output_type": "stream",
          "text": [
            "['Penicillin V Potassium' 'Mycophenolate Mofetil' 'Metaxalone'\n",
            " 'Terazosin·HCl' 'Fluvastatin·Na']\n"
          ],
          "name": "stdout"
        }
      ]
    },
    {
      "cell_type": "code",
      "metadata": {
        "colab": {
          "base_uri": "https://localhost:8080/"
        },
        "id": "6t0P6Y1KhDeK",
        "outputId": "ed0fe40c-f021-4d2c-ded1-6cdb2e52d0c3"
      },
      "source": [
        "# Compoundオブジェクトを取得\r\n",
        "get_compounds(drugs[1], 'name')"
      ],
      "execution_count": 14,
      "outputs": [
        {
          "output_type": "execute_result",
          "data": {
            "text/plain": [
              "[Compound(5281078)]"
            ]
          },
          "metadata": {
            "tags": []
          },
          "execution_count": 14
        }
      ]
    },
    {
      "cell_type": "code",
      "metadata": {
        "colab": {
          "base_uri": "https://localhost:8080/",
          "height": 35
        },
        "id": "XwvIZkaihrZt",
        "outputId": "9f78afd9-c0c8-4b0d-c863-28822f77e9de"
      },
      "source": [
        "# smiles取得\r\n",
        "get_compounds(drugs[1], 'name')[0].canonical_smiles"
      ],
      "execution_count": 16,
      "outputs": [
        {
          "output_type": "execute_result",
          "data": {
            "application/vnd.google.colaboratory.intrinsic+json": {
              "type": "string"
            },
            "text/plain": [
              "'CC1=C2COC(=O)C2=C(C(=C1OC)CC=C(C)CCC(=O)OCCN3CCOCC3)O'"
            ]
          },
          "metadata": {
            "tags": []
          },
          "execution_count": 16
        }
      ]
    },
    {
      "cell_type": "code",
      "metadata": {
        "id": "zfbi7PxWh3j2"
      },
      "source": [
        "import re\r\n",
        "\r\n",
        "ion_replacements = {\r\n",
        "    'HBr': ' hydrobromide',\r\n",
        "    '2Br': ' dibromide',\r\n",
        "    'Br': ' bromide',\r\n",
        "    'HCl': ' hydrochloride',\r\n",
        "    '2H2O': ' dihydrate',\r\n",
        "    'H20': ' hydrate',\r\n",
        "    'Na': ' sodium'\r\n",
        "}\r\n",
        "\r\n",
        "ion_keys = ['H20', 'HBr', 'HCl', '2Br', '2H2O', 'Br', 'Na']\r\n",
        "\r\n",
        "def compound_to_smiles(cmpd):\r\n",
        "    # remove spaces and irregular characters\r\n",
        "    compound = re.sub(r'([^\\s\\w]|_)+', '', cmpd)\r\n",
        "                   \r\n",
        "    # replace ion names if needed\r\n",
        "    for ion in ion_keys:\r\n",
        "        if ion in compound:\r\n",
        "            compound = compound.replace(ion, ion_replacements[ion])\r\n",
        "\r\n",
        "    # query for cid first in order to avoid timeouterror\r\n",
        "    cid = get_cids(compound, 'name')[0]\r\n",
        "    smiles = get_compounds(cid)[0].canonical_smiles\r\n",
        "\r\n",
        "    return smiles"
      ],
      "execution_count": 20,
      "outputs": []
    },
    {
      "cell_type": "code",
      "metadata": {
        "id": "369cFtQ8j0zo"
      },
      "source": [
        "# smiles取得\r\n",
        "# エラーが発生する場合もあるためtry-except\r\n",
        "smiles_map = {}\r\n",
        "for i, compound in enumerate(drugs):\r\n",
        "    try:\r\n",
        "        smiles_map[compound] = compound_to_smiles(compound)\r\n",
        "    except:\r\n",
        "        print('Error:%s' % i)\r\n",
        "        continue"
      ],
      "execution_count": 23,
      "outputs": []
    },
    {
      "cell_type": "code",
      "metadata": {
        "id": "yqvDSUAfr5Aq"
      },
      "source": [
        "smiles_data = raw_data\r\n",
        "# map drug to smiles string\r\n",
        "smiles_data['drug'] = smiles_data['drug'].apply(lambda x: smiles_map[x])"
      ],
      "execution_count": 24,
      "outputs": []
    },
    {
      "cell_type": "code",
      "metadata": {
        "colab": {
          "base_uri": "https://localhost:8080/",
          "height": 202
        },
        "id": "hz_pu-ETvrYi",
        "outputId": "d1019ce9-a6ef-414b-d8c6-03c2850684c4"
      },
      "source": [
        "# 先頭5行確認\r\n",
        "smiles_data.head(5)"
      ],
      "execution_count": 25,
      "outputs": [
        {
          "output_type": "execute_result",
          "data": {
            "text/html": [
              "<div>\n",
              "<style scoped>\n",
              "    .dataframe tbody tr th:only-of-type {\n",
              "        vertical-align: middle;\n",
              "    }\n",
              "\n",
              "    .dataframe tbody tr th {\n",
              "        vertical-align: top;\n",
              "    }\n",
              "\n",
              "    .dataframe thead th {\n",
              "        text-align: right;\n",
              "    }\n",
              "</style>\n",
              "<table border=\"1\" class=\"dataframe\">\n",
              "  <thead>\n",
              "    <tr style=\"text-align: right;\">\n",
              "      <th></th>\n",
              "      <th>label</th>\n",
              "      <th>drug</th>\n",
              "      <th>n1</th>\n",
              "      <th>n2</th>\n",
              "    </tr>\n",
              "  </thead>\n",
              "  <tbody>\n",
              "    <tr>\n",
              "      <th>0</th>\n",
              "      <td>2</td>\n",
              "      <td>CC1(C(N2C(S1)C(C2=O)NC(=O)COC3=CC=CC=C3)C(=O)[...</td>\n",
              "      <td>-10.404</td>\n",
              "      <td>-18.1929</td>\n",
              "    </tr>\n",
              "    <tr>\n",
              "      <th>1</th>\n",
              "      <td>3</td>\n",
              "      <td>CC1=C2COC(=O)C2=C(C(=C1OC)CC=C(C)CCC(=O)OCCN3C...</td>\n",
              "      <td>-12.4453</td>\n",
              "      <td>-11.7175</td>\n",
              "    </tr>\n",
              "    <tr>\n",
              "      <th>2</th>\n",
              "      <td>4</td>\n",
              "      <td>CC1=CC(=CC(=C1)OCC2CNC(=O)O2)C</td>\n",
              "      <td>-8.65572</td>\n",
              "      <td>-17.7753</td>\n",
              "    </tr>\n",
              "    <tr>\n",
              "      <th>3</th>\n",
              "      <td>5</td>\n",
              "      <td>COC1=C(C=C2C(=C1)C(=NC(=N2)N3CCN(CC3)C(=O)C4CC...</td>\n",
              "      <td>-11.5048</td>\n",
              "      <td>16.0825</td>\n",
              "    </tr>\n",
              "    <tr>\n",
              "      <th>4</th>\n",
              "      <td>6</td>\n",
              "      <td>CC(C)N1C2=CC=CC=C2C(=C1C=CC(CC(CC(=O)[O-])O)O)...</td>\n",
              "      <td>-11.1354</td>\n",
              "      <td>-14.553</td>\n",
              "    </tr>\n",
              "  </tbody>\n",
              "</table>\n",
              "</div>"
            ],
            "text/plain": [
              "   label                                               drug       n1       n2\n",
              "0      2  CC1(C(N2C(S1)C(C2=O)NC(=O)COC3=CC=CC=C3)C(=O)[...  -10.404 -18.1929\n",
              "1      3  CC1=C2COC(=O)C2=C(C(=C1OC)CC=C(C)CCC(=O)OCCN3C... -12.4453 -11.7175\n",
              "2      4                     CC1=CC(=CC(=C1)OCC2CNC(=O)O2)C -8.65572 -17.7753\n",
              "3      5  COC1=C(C=C2C(=C1)C(=NC(=N2)N3CCN(CC3)C(=O)C4CC... -11.5048  16.0825\n",
              "4      6  CC(C)N1C2=CC=CC=C2C(=C1C=CC(CC(CC(=O)[O-])O)O)... -11.1354  -14.553"
            ]
          },
          "metadata": {
            "tags": []
          },
          "execution_count": 25
        }
      ]
    },
    {
      "cell_type": "markdown",
      "metadata": {
        "id": "iC4TSN4CwNhy"
      },
      "source": [
        "#### ノイズ除去\r\n",
        "- 機械学習における万能な方法はない(no free lunch)\r\n",
        "- 解きたい問題に対する適切なモデルのフレームワークを決めるために、データの分析と理解に時間を費やす必要がある。\r\n",
        "    - 何を実現したいのか？\r\n",
        "    - アッセイは何ですか？\r\n",
        "    - データ構造はどのような形式？\r\n",
        "    - データに意味はありますか？\r\n",
        "    - 従来何が取り組まれていますか？\r\n",
        "\r\n",
        "- このプロジェクトでは。。\r\n",
        "    - 任意の低分子について、特定のイオンチャネルタンパク質との親和性を予測できるモデルを構築したい\r\n",
        "    - 入力の薬物に対して、データはチャネル阻害を意味する\r\n",
        "    - 数百の薬物データ\r\n",
        "    - データセットについて詳しくみる必要がある\r\n",
        "    - 特定のタンパク質については何もない\r\n",
        "    "
      ]
    },
    {
      "cell_type": "code",
      "metadata": {
        "id": "0ewiIf1VvwJU"
      },
      "source": [
        "# データを詳細に眺める\r\n",
        "import matplotlib.pyplot as plt\r\n",
        "%matplotlib inline\r\n",
        "\r\n",
        "import seaborn as sns\r\n",
        "sns.set_style('white')\r\n",
        "\r\n",
        "import numpy as np\r\n",
        "\r\n",
        "from rdkit import Chem\r\n",
        "from rdkit.Chem import AllChem\r\n",
        "from rdkit.Chem import Draw, PyMol, rdFMCS\r\n",
        "from rdkit.Chem.Draw import IPythonConsole\r\n",
        "from rdkit import rdBase\r\n"
      ],
      "execution_count": 26,
      "outputs": []
    },
    {
      "cell_type": "code",
      "metadata": {
        "id": "eKL-666Eygiv"
      },
      "source": [
        ""
      ],
      "execution_count": null,
      "outputs": []
    }
  ]
}