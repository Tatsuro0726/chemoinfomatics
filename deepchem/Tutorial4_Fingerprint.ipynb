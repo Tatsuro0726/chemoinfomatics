{
  "nbformat": 4,
  "nbformat_minor": 0,
  "metadata": {
    "colab": {
      "name": "Tutorial4_Fingerprint.ipynb",
      "provenance": [],
      "collapsed_sections": [],
      "authorship_tag": "ABX9TyOMaE0qxgZs+QYCE9gdV0hw",
      "include_colab_link": true
    },
    "kernelspec": {
      "name": "python3",
      "display_name": "Python 3"
    }
  },
  "cells": [
    {
      "cell_type": "markdown",
      "metadata": {
        "id": "view-in-github",
        "colab_type": "text"
      },
      "source": [
        "<a href=\"https://colab.research.google.com/github/Tatsuro0726/chemoinfomatics/blob/main/deepchem/Tutorial4_Fingerprint.ipynb\" target=\"_parent\"><img src=\"https://colab.research.google.com/assets/colab-badge.svg\" alt=\"Open In Colab\"/></a>"
      ]
    },
    {
      "cell_type": "markdown",
      "metadata": {
        "id": "m-ZsBsaXalVM"
      },
      "source": [
        "### Tutorial 4: Molecular Fingerprints\r\n",
        "分子は多くの方法で表現することができます。このチュートリアルでは、「分子の指紋」と呼ばれる表現の一種を紹介します。これは非常にシンプルな表現で、小さな薬物のような分子によく機能することが多いです。"
      ]
    },
    {
      "cell_type": "markdown",
      "metadata": {
        "id": "F-jqzafBaweb"
      },
      "source": [
        "#### Setup"
      ]
    },
    {
      "cell_type": "code",
      "metadata": {
        "colab": {
          "base_uri": "https://localhost:8080/"
        },
        "id": "aQOGrGZfaYGe",
        "outputId": "46394ab3-4b9d-476b-8bb9-986992008ae2"
      },
      "source": [
        "!curl -Lo conda_installer.py https://raw.githubusercontent.com/deepchem/deepchem/master/scripts/colab_install.py\r\n",
        "import conda_installer\r\n",
        "conda_installer.install()\r\n",
        "!/root/miniconda/bin/conda info -e"
      ],
      "execution_count": 1,
      "outputs": [
        {
          "output_type": "stream",
          "text": [
            "  % Total    % Received % Xferd  Average Speed   Time    Time     Time  Current\n",
            "                                 Dload  Upload   Total   Spent    Left  Speed\n",
            "100  3490  100  3490    0     0  14244      0 --:--:-- --:--:-- --:--:-- 14186\n"
          ],
          "name": "stdout"
        },
        {
          "output_type": "stream",
          "text": [
            "add /root/miniconda/lib/python3.6/site-packages to PYTHONPATH\n",
            "python version: 3.6.9\n",
            "fetching installer from https://repo.continuum.io/miniconda/Miniconda3-latest-Linux-x86_64.sh\n",
            "done\n",
            "installing miniconda to /root/miniconda\n",
            "done\n",
            "installing rdkit, openmm, pdbfixer\n",
            "added conda-forge to channels\n",
            "added omnia to channels\n",
            "done\n",
            "conda packages installation finished!\n"
          ],
          "name": "stderr"
        },
        {
          "output_type": "stream",
          "text": [
            "# conda environments:\n",
            "#\n",
            "base                  *  /root/miniconda\n",
            "\n"
          ],
          "name": "stdout"
        }
      ]
    },
    {
      "cell_type": "code",
      "metadata": {
        "colab": {
          "base_uri": "https://localhost:8080/"
        },
        "id": "wExPvSw_azQj",
        "outputId": "206b1f56-72d2-4eb2-8bc5-6fa1b7c3ccef"
      },
      "source": [
        "!pip install --pre deepchem"
      ],
      "execution_count": 2,
      "outputs": [
        {
          "output_type": "stream",
          "text": [
            "Collecting deepchem\n",
            "\u001b[?25l  Downloading https://files.pythonhosted.org/packages/b7/f7/5828211eb0b9a78e4dad42de96dcc61d616330586c28fceda6651d8ae324/deepchem-2.5.0.dev20210116000740-py3-none-any.whl (531kB)\n",
            "\r\u001b[K     |▋                               | 10kB 14.9MB/s eta 0:00:01\r\u001b[K     |█▎                              | 20kB 20.3MB/s eta 0:00:01\r\u001b[K     |█▉                              | 30kB 13.9MB/s eta 0:00:01\r\u001b[K     |██▌                             | 40kB 9.4MB/s eta 0:00:01\r\u001b[K     |███                             | 51kB 8.3MB/s eta 0:00:01\r\u001b[K     |███▊                            | 61kB 6.8MB/s eta 0:00:01\r\u001b[K     |████▎                           | 71kB 7.6MB/s eta 0:00:01\r\u001b[K     |█████                           | 81kB 8.4MB/s eta 0:00:01\r\u001b[K     |█████▌                          | 92kB 8.3MB/s eta 0:00:01\r\u001b[K     |██████▏                         | 102kB 7.5MB/s eta 0:00:01\r\u001b[K     |██████▉                         | 112kB 7.5MB/s eta 0:00:01\r\u001b[K     |███████▍                        | 122kB 7.5MB/s eta 0:00:01\r\u001b[K     |████████                        | 133kB 7.5MB/s eta 0:00:01\r\u001b[K     |████████▋                       | 143kB 7.5MB/s eta 0:00:01\r\u001b[K     |█████████▎                      | 153kB 7.5MB/s eta 0:00:01\r\u001b[K     |█████████▉                      | 163kB 7.5MB/s eta 0:00:01\r\u001b[K     |██████████▌                     | 174kB 7.5MB/s eta 0:00:01\r\u001b[K     |███████████                     | 184kB 7.5MB/s eta 0:00:01\r\u001b[K     |███████████▊                    | 194kB 7.5MB/s eta 0:00:01\r\u001b[K     |████████████▍                   | 204kB 7.5MB/s eta 0:00:01\r\u001b[K     |█████████████                   | 215kB 7.5MB/s eta 0:00:01\r\u001b[K     |█████████████▋                  | 225kB 7.5MB/s eta 0:00:01\r\u001b[K     |██████████████▏                 | 235kB 7.5MB/s eta 0:00:01\r\u001b[K     |██████████████▉                 | 245kB 7.5MB/s eta 0:00:01\r\u001b[K     |███████████████▍                | 256kB 7.5MB/s eta 0:00:01\r\u001b[K     |████████████████                | 266kB 7.5MB/s eta 0:00:01\r\u001b[K     |████████████████▋               | 276kB 7.5MB/s eta 0:00:01\r\u001b[K     |█████████████████▎              | 286kB 7.5MB/s eta 0:00:01\r\u001b[K     |█████████████████▉              | 296kB 7.5MB/s eta 0:00:01\r\u001b[K     |██████████████████▌             | 307kB 7.5MB/s eta 0:00:01\r\u001b[K     |███████████████████▏            | 317kB 7.5MB/s eta 0:00:01\r\u001b[K     |███████████████████▊            | 327kB 7.5MB/s eta 0:00:01\r\u001b[K     |████████████████████▍           | 337kB 7.5MB/s eta 0:00:01\r\u001b[K     |█████████████████████           | 348kB 7.5MB/s eta 0:00:01\r\u001b[K     |█████████████████████▋          | 358kB 7.5MB/s eta 0:00:01\r\u001b[K     |██████████████████████▏         | 368kB 7.5MB/s eta 0:00:01\r\u001b[K     |██████████████████████▉         | 378kB 7.5MB/s eta 0:00:01\r\u001b[K     |███████████████████████▍        | 389kB 7.5MB/s eta 0:00:01\r\u001b[K     |████████████████████████        | 399kB 7.5MB/s eta 0:00:01\r\u001b[K     |████████████████████████▊       | 409kB 7.5MB/s eta 0:00:01\r\u001b[K     |█████████████████████████▎      | 419kB 7.5MB/s eta 0:00:01\r\u001b[K     |██████████████████████████      | 430kB 7.5MB/s eta 0:00:01\r\u001b[K     |██████████████████████████▌     | 440kB 7.5MB/s eta 0:00:01\r\u001b[K     |███████████████████████████▏    | 450kB 7.5MB/s eta 0:00:01\r\u001b[K     |███████████████████████████▊    | 460kB 7.5MB/s eta 0:00:01\r\u001b[K     |████████████████████████████▍   | 471kB 7.5MB/s eta 0:00:01\r\u001b[K     |█████████████████████████████   | 481kB 7.5MB/s eta 0:00:01\r\u001b[K     |█████████████████████████████▋  | 491kB 7.5MB/s eta 0:00:01\r\u001b[K     |██████████████████████████████▏ | 501kB 7.5MB/s eta 0:00:01\r\u001b[K     |██████████████████████████████▉ | 512kB 7.5MB/s eta 0:00:01\r\u001b[K     |███████████████████████████████▌| 522kB 7.5MB/s eta 0:00:01\r\u001b[K     |████████████████████████████████| 532kB 7.5MB/s \n",
            "\u001b[?25hRequirement already satisfied: scikit-learn in /usr/local/lib/python3.6/dist-packages (from deepchem) (0.22.2.post1)\n",
            "Requirement already satisfied: numpy in /usr/local/lib/python3.6/dist-packages (from deepchem) (1.19.5)\n",
            "Requirement already satisfied: scipy in /usr/local/lib/python3.6/dist-packages (from deepchem) (1.4.1)\n",
            "Requirement already satisfied: joblib in /usr/local/lib/python3.6/dist-packages (from deepchem) (1.0.0)\n",
            "Requirement already satisfied: pandas in /usr/local/lib/python3.6/dist-packages (from deepchem) (1.1.5)\n",
            "Requirement already satisfied: pytz>=2017.2 in /usr/local/lib/python3.6/dist-packages (from pandas->deepchem) (2018.9)\n",
            "Requirement already satisfied: python-dateutil>=2.7.3 in /usr/local/lib/python3.6/dist-packages (from pandas->deepchem) (2.8.1)\n",
            "Requirement already satisfied: six>=1.5 in /usr/local/lib/python3.6/dist-packages (from python-dateutil>=2.7.3->pandas->deepchem) (1.15.0)\n",
            "Installing collected packages: deepchem\n",
            "Successfully installed deepchem-2.5.0.dev20210116000740\n"
          ],
          "name": "stdout"
        }
      ]
    },
    {
      "cell_type": "code",
      "metadata": {
        "colab": {
          "base_uri": "https://localhost:8080/",
          "height": 35
        },
        "id": "EnV5kuwBbjaU",
        "outputId": "51ddbd50-9f7b-4bf1-dc26-b3fad14cc689"
      },
      "source": [
        "import deepchem as dc\r\n",
        "dc.__version__"
      ],
      "execution_count": 3,
      "outputs": [
        {
          "output_type": "execute_result",
          "data": {
            "application/vnd.google.colaboratory.intrinsic+json": {
              "type": "string"
            },
            "text/plain": [
              "'2.5.0.dev'"
            ]
          },
          "metadata": {
            "tags": []
          },
          "execution_count": 3
        }
      ]
    },
    {
      "cell_type": "markdown",
      "metadata": {
        "id": "x0liGLS4buwc"
      },
      "source": [
        "#### Fingerprintとは？\r\n",
        "Deeplearningでは、一般的に数値の配列を入力としている。分子を入力するには各分子を1つまたは複数の数値の配列として表現する必要がある。  \r\n",
        "多くの予測モデルでは、入力のサイズを固定する必要がある。分子によって原子数が異なるため、分子を扱う上で難しい問題である。  \r\n",
        "\r\n",
        "上記の問題の対処方法として、Fingerprintが提案されている。<br>Fingerprintは、固定長の配列で、各要素が分子の特徴を示している。２つの分子が似たようなFingerprintの場合、同じ特徴を多く含んでいることを示しており、化学的性質も似ている可能性が高いことが示される。  \r\n",
        "\r\n",
        "DeepChemでは、Exteded Connectivity Fingerprint(ECFP)と呼ばれるフィンガープリントをサポートしている。<br>\r\n",
        "ECFPアルゴリズムは、特性と結合に基づいて原子を分類することから始まる。それぞれの固有なパターンが特徴となる。例えば、「2つの水素と2つの重原子に結合した炭素原子」が特徴となり、この特徴を有する任意の分子に対して、Fingerprintの特定の要素に<b>\"1\"</b>が設定される。その次に、より大きな部分の近傍領域を見て、新しい特徴を反復的に識別する。他の2つの特定の特徴に結合した1つの特定の特徴が上位の特徴となり、その特徴を含むすべての分子に対応する要素が設定される。これを一定回数、多くの場合は2回繰り返す。"
      ]
    },
    {
      "cell_type": "code",
      "metadata": {
        "colab": {
          "base_uri": "https://localhost:8080/"
        },
        "id": "xBKodQivblXQ",
        "outputId": "9ae691b8-7a6d-414b-a6f5-2d42a4684885"
      },
      "source": [
        "# ECPFで変換されたデータを見てみる\r\n",
        "tasks, datasets, transformers = dc.molnet.load_tox21(featurizer='ECFP')\r\n",
        "train, valid, test = datasets\r\n",
        "print(train)"
      ],
      "execution_count": 4,
      "outputs": [
        {
          "output_type": "stream",
          "text": [
            "<DiskDataset X.shape: (6264, 1024), y.shape: (6264, 12), w.shape: (6264, 12), task_names: ['NR-AR' 'NR-AR-LBD' 'NR-AhR' ... 'SR-HSE' 'SR-MMP' 'SR-p53']>\n"
          ],
          "name": "stdout"
        }
      ]
    },
    {
      "cell_type": "markdown",
      "metadata": {
        "id": "Sv8_SKXSfyVf"
      },
      "source": [
        "y.shape(6264, 12)　⇒　マルチタスクデータセットを意味する。  \r\n",
        "tox21には、毒性のサインを探すために12の異なるアッセイが使用された。"
      ]
    },
    {
      "cell_type": "code",
      "metadata": {
        "colab": {
          "base_uri": "https://localhost:8080/"
        },
        "id": "J8Yzr-aWfeVZ",
        "outputId": "a5945709-4e08-4f64-83c7-5d8a5bd0132f"
      },
      "source": [
        "# 重み配列の確認\r\n",
        "train.w"
      ],
      "execution_count": 5,
      "outputs": [
        {
          "output_type": "execute_result",
          "data": {
            "text/plain": [
              "array([[1.0450224215246637, 1.036325992847732, 1.1250265336446614, ...,\n",
              "        1.0557650327445922, 1.1746499631540162, 1.05288369419429],\n",
              "       [1.0450224215246637, 1.036325992847732, 1.1250265336446614, ...,\n",
              "        1.0557650327445922, 1.1746499631540162, 1.05288369419429],\n",
              "       [1.0450224215246637, 1.036325992847732, 1.1250265336446614, ...,\n",
              "        1.0557650327445922, 0.0, 1.05288369419429],\n",
              "       ...,\n",
              "       [1.0450224215246637, 0.0, 1.1250265336446614, ...,\n",
              "        1.0557650327445922, 6.725738396624473, 1.05288369419429],\n",
              "       [1.0450224215246637, 1.036325992847732, 1.1250265336446614, ...,\n",
              "        1.0557650327445922, 6.725738396624473, 1.05288369419429],\n",
              "       [1.0450224215246637, 1.036325992847732, 1.1250265336446614, ...,\n",
              "        0.0, 1.1746499631540162, 1.05288369419429]], dtype=object)"
            ]
          },
          "metadata": {
            "tags": []
          },
          "execution_count": 5
        }
      ]
    },
    {
      "cell_type": "markdown",
      "metadata": {
        "id": "AHnOZnlFmWXI"
      },
      "source": [
        "* 0である要素があることに注意する。  \r\n",
        "* wは欠損データを示すために使用されている。\r\n",
        "* すべての分子に対して、全てのアッセイが実施されているわけではない。\r\n",
        "* サンプル、サンプル/タスクの重みを\"0\"に設定すると、フィッティングや評価の際に無視される。損失関数や他の指標には影響を与えない。\r\n",
        "\r\n",
        "* wが1ではない理由。\r\n",
        "  - 各タスクの陽性サンプルと陰性サンプルの全体的な重みのバランスを取るため。  \r\n",
        "  - モデルを学習するときに、12個のタスクのそれぞれが等価であり、各タスクで陽性・陰性サンプルに対して等しく重みを与えたい。⇒ある特定の方向(毒性がない)などの方向に偏ってしまう可能性がある。"
      ]
    },
    {
      "cell_type": "markdown",
      "metadata": {
        "id": "ZWKMysY9oE0w"
      },
      "source": [
        "#### モデルの学習\r\n",
        "ECFPではGraphConvModelに比べて、シンプルなタイプのモデルを使用することができる。"
      ]
    },
    {
      "cell_type": "code",
      "metadata": {
        "id": "Pxc6tL49gSv_"
      },
      "source": [
        "# マルチタスク分類\r\n",
        "model = dc.models.MultitaskClassifier(n_tasks=12, n_features=1024, layer_sizes=[1000])"
      ],
      "execution_count": 11,
      "outputs": []
    },
    {
      "cell_type": "markdown",
      "metadata": {
        "id": "HMUWQq92o6Eb"
      },
      "source": [
        "MultitaskClassifier は、全結合レイヤーの単純なスタックです。この例では、1000 の隠れ層を使用するように指示しています。また，各入力は1024個の特徴量を持ち，12個の異なるタスクの予測値を生成するように指示しています"
      ]
    },
    {
      "cell_type": "code",
      "metadata": {
        "colab": {
          "base_uri": "https://localhost:8080/"
        },
        "id": "5KyyDPASok6w",
        "outputId": "7a6ff664-47a8-4f2c-c199-4c0d756a46bb"
      },
      "source": [
        "# モデルの評価\r\n",
        "import numpy as np\r\n",
        "\r\n",
        "model.fit(train, nb_epoch=10)\r\n",
        "metric = dc.metrics.Metric(dc.metrics.roc_auc_score)\r\n",
        "print('training set score: {}'.format(model.evaluate(train,[metric], transformers)))\r\n",
        "print('test set socre: {}'.format(model.evaluate(test, [metric], transformers)))"
      ],
      "execution_count": 12,
      "outputs": [
        {
          "output_type": "stream",
          "text": [
            "training set score: {'roc_auc_score': 0.9578183320116023}\n",
            "test set socre: {'roc_auc_score': 0.6876368927833357}\n"
          ],
          "name": "stdout"
        }
      ]
    },
    {
      "cell_type": "code",
      "metadata": {
        "id": "dRF6GZvnolbc"
      },
      "source": [
        ""
      ],
      "execution_count": null,
      "outputs": []
    }
  ]
}